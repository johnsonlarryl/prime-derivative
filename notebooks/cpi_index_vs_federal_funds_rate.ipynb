{
 "cells": [
  {
   "cell_type": "code",
   "execution_count": 2,
   "id": "d755c63d",
   "metadata": {},
   "outputs": [],
   "source": [
    "import matplotlib.pyplot as plt\n",
    "import numpy as np\n",
    "import pandas as pd\n",
    "from pandas import Series\n",
    "import sys"
   ]
  },
  {
   "cell_type": "code",
   "execution_count": 4,
   "id": "da85f598-ddef-4764-b94f-96739a0e3cb9",
   "metadata": {},
   "outputs": [],
   "source": [
    "sys.path.append(\"../\")"
   ]
  },
  {
   "cell_type": "code",
   "execution_count": 8,
   "id": "d9e2238f-0820-4264-85a7-66e25875ba98",
   "metadata": {},
   "outputs": [],
   "source": [
    "BASE_DATA_DIR = \"../data/\""
   ]
  },
  {
   "cell_type": "code",
   "execution_count": 5,
   "id": "5f9e8941-1738-4ec9-8c84-adf9d70c0f6f",
   "metadata": {},
   "outputs": [],
   "source": [
    "from prime_derivative.util.date import get_period, parse_cpi_index_period\n",
    "from prime_derivative.util.viz import line_plot, histogram"
   ]
  },
  {
   "cell_type": "code",
   "execution_count": 46,
   "id": "ae05a449",
   "metadata": {},
   "outputs": [
    {
     "name": "stderr",
     "output_type": "stream",
     "text": [
      "/var/folders/3n/7kvkbqjd0l9grdj7kptkcfgr0000gn/T/ipykernel_67912/3397718006.py:3: FutureWarning: The 'delim_whitespace' keyword in pd.read_csv is deprecated and will be removed in a future version. Use ``sep='\\s+'`` instead\n",
      "  cpi_index = pd.read_csv(CPI_INDEX_DATA, delim_whitespace=True)\n"
     ]
    }
   ],
   "source": [
    "# Import data\n",
    "CPI_INDEX_DATA = f\"{BASE_DATA_DIR}/bls/bls_cpi.txt\"\n",
    "cpi_index = pd.read_csv(CPI_INDEX_DATA, delim_whitespace=True)"
   ]
  },
  {
   "cell_type": "code",
   "execution_count": 10,
   "id": "48553dac",
   "metadata": {},
   "outputs": [],
   "source": [
    "# Clean up values for various items in the CPI\n",
    "cpi_index['value'] = cpi_index['value'].replace(['-'], 0.00)\n",
    "cpi_index = cpi_index.astype({'value': 'float64'})"
   ]
  },
  {
   "cell_type": "code",
   "execution_count": 11,
   "id": "3a9e7634",
   "metadata": {},
   "outputs": [],
   "source": [
    "cpi_index['period'] = cpi_index.apply(lambda row: get_period(row), axis=1)"
   ]
  },
  {
   "cell_type": "code",
   "execution_count": 12,
   "id": "1954cf53",
   "metadata": {},
   "outputs": [],
   "source": [
    "cpi_index = cpi_index.set_index('period')"
   ]
  },
  {
   "cell_type": "code",
   "execution_count": 47,
   "id": "7d6c84cb",
   "metadata": {},
   "outputs": [],
   "source": [
    "FEDERAL_FUNDS_DATA = f\"{BASE_DATA_DIR}/fed/federal_funds_effective_rate.csv\"\n",
    "federal_funds_rates = pd.read_csv(FEDERAL_FUNDS_DATA)"
   ]
  },
  {
   "cell_type": "code",
   "execution_count": 50,
   "id": "b14c0e26-6c5c-4926-befe-4584857bcede",
   "metadata": {},
   "outputs": [
    {
     "data": {
      "text/html": [
       "<div>\n",
       "<style scoped>\n",
       "    .dataframe tbody tr th:only-of-type {\n",
       "        vertical-align: middle;\n",
       "    }\n",
       "\n",
       "    .dataframe tbody tr th {\n",
       "        vertical-align: top;\n",
       "    }\n",
       "\n",
       "    .dataframe thead th {\n",
       "        text-align: right;\n",
       "    }\n",
       "</style>\n",
       "<table border=\"1\" class=\"dataframe\">\n",
       "  <thead>\n",
       "    <tr style=\"text-align: right;\">\n",
       "      <th></th>\n",
       "      <th>series_id</th>\n",
       "      <th>year</th>\n",
       "      <th>period</th>\n",
       "      <th>value</th>\n",
       "      <th>footnote_codes</th>\n",
       "    </tr>\n",
       "  </thead>\n",
       "  <tbody>\n",
       "    <tr>\n",
       "      <th>0</th>\n",
       "      <td>APU0000701111</td>\n",
       "      <td>1995</td>\n",
       "      <td>M01</td>\n",
       "      <td>0.238</td>\n",
       "      <td>NaN</td>\n",
       "    </tr>\n",
       "    <tr>\n",
       "      <th>1</th>\n",
       "      <td>APU0000701111</td>\n",
       "      <td>1995</td>\n",
       "      <td>M02</td>\n",
       "      <td>0.242</td>\n",
       "      <td>NaN</td>\n",
       "    </tr>\n",
       "    <tr>\n",
       "      <th>2</th>\n",
       "      <td>APU0000701111</td>\n",
       "      <td>1995</td>\n",
       "      <td>M03</td>\n",
       "      <td>0.242</td>\n",
       "      <td>NaN</td>\n",
       "    </tr>\n",
       "    <tr>\n",
       "      <th>3</th>\n",
       "      <td>APU0000701111</td>\n",
       "      <td>1995</td>\n",
       "      <td>M04</td>\n",
       "      <td>0.236</td>\n",
       "      <td>NaN</td>\n",
       "    </tr>\n",
       "    <tr>\n",
       "      <th>4</th>\n",
       "      <td>APU0000701111</td>\n",
       "      <td>1995</td>\n",
       "      <td>M05</td>\n",
       "      <td>0.244</td>\n",
       "      <td>NaN</td>\n",
       "    </tr>\n",
       "    <tr>\n",
       "      <th>5</th>\n",
       "      <td>APU0000701111</td>\n",
       "      <td>1995</td>\n",
       "      <td>M06</td>\n",
       "      <td>0.244</td>\n",
       "      <td>NaN</td>\n",
       "    </tr>\n",
       "    <tr>\n",
       "      <th>6</th>\n",
       "      <td>APU0000701111</td>\n",
       "      <td>1995</td>\n",
       "      <td>M07</td>\n",
       "      <td>0.248</td>\n",
       "      <td>NaN</td>\n",
       "    </tr>\n",
       "    <tr>\n",
       "      <th>7</th>\n",
       "      <td>APU0000701111</td>\n",
       "      <td>1995</td>\n",
       "      <td>M08</td>\n",
       "      <td>0.255</td>\n",
       "      <td>NaN</td>\n",
       "    </tr>\n",
       "    <tr>\n",
       "      <th>8</th>\n",
       "      <td>APU0000701111</td>\n",
       "      <td>1995</td>\n",
       "      <td>M09</td>\n",
       "      <td>0.256</td>\n",
       "      <td>NaN</td>\n",
       "    </tr>\n",
       "    <tr>\n",
       "      <th>9</th>\n",
       "      <td>APU0000701111</td>\n",
       "      <td>1995</td>\n",
       "      <td>M10</td>\n",
       "      <td>0.254</td>\n",
       "      <td>NaN</td>\n",
       "    </tr>\n",
       "  </tbody>\n",
       "</table>\n",
       "</div>"
      ],
      "text/plain": [
       "       series_id  year period  value  footnote_codes\n",
       "0  APU0000701111  1995    M01  0.238             NaN\n",
       "1  APU0000701111  1995    M02  0.242             NaN\n",
       "2  APU0000701111  1995    M03  0.242             NaN\n",
       "3  APU0000701111  1995    M04  0.236             NaN\n",
       "4  APU0000701111  1995    M05  0.244             NaN\n",
       "5  APU0000701111  1995    M06  0.244             NaN\n",
       "6  APU0000701111  1995    M07  0.248             NaN\n",
       "7  APU0000701111  1995    M08  0.255             NaN\n",
       "8  APU0000701111  1995    M09  0.256             NaN\n",
       "9  APU0000701111  1995    M10  0.254             NaN"
      ]
     },
     "execution_count": 50,
     "metadata": {},
     "output_type": "execute_result"
    }
   ],
   "source": [
    "cpi_index"
   ]
  },
  {
   "cell_type": "code",
   "execution_count": 16,
   "id": "68276b07",
   "metadata": {},
   "outputs": [],
   "source": [
    "federal_funds_rates = federal_funds_rates.astype({\n",
    "    'federal_funds_effective_rate': 'float64',\n",
    "    'time_period': 'datetime64[ns]'  # Use 'datetime64[ns]' instead of 'datetime64'\n",
    "}).rename(columns={'time_period': 'period'}).set_index('period')\n"
   ]
  },
  {
   "cell_type": "code",
   "execution_count": 17,
   "id": "773a7cf5",
   "metadata": {},
   "outputs": [
    {
     "name": "stderr",
     "output_type": "stream",
     "text": [
      "/var/folders/3n/7kvkbqjd0l9grdj7kptkcfgr0000gn/T/ipykernel_67912/1408212448.py:1: FutureWarning: 'M' is deprecated and will be removed in a future version, please use 'ME' instead.\n",
      "  federal_funds_rates = federal_funds_rates.resample('M').mean()\n"
     ]
    }
   ],
   "source": [
    "federal_funds_rates = federal_funds_rates.resample('M').mean()"
   ]
  },
  {
   "cell_type": "code",
   "execution_count": 18,
   "id": "08780c01",
   "metadata": {},
   "outputs": [],
   "source": [
    "federal_funds_rates.index = federal_funds_rates.index.to_period('M')"
   ]
  },
  {
   "cell_type": "code",
   "execution_count": 19,
   "id": "dbc04a4b",
   "metadata": {},
   "outputs": [
    {
     "data": {
      "text/html": [
       "<div>\n",
       "<style scoped>\n",
       "    .dataframe tbody tr th:only-of-type {\n",
       "        vertical-align: middle;\n",
       "    }\n",
       "\n",
       "    .dataframe tbody tr th {\n",
       "        vertical-align: top;\n",
       "    }\n",
       "\n",
       "    .dataframe thead th {\n",
       "        text-align: right;\n",
       "    }\n",
       "</style>\n",
       "<table border=\"1\" class=\"dataframe\">\n",
       "  <thead>\n",
       "    <tr style=\"text-align: right;\">\n",
       "      <th></th>\n",
       "      <th>series_id</th>\n",
       "      <th>year</th>\n",
       "      <th>value</th>\n",
       "      <th>footnote_codes</th>\n",
       "    </tr>\n",
       "    <tr>\n",
       "      <th>period</th>\n",
       "      <th></th>\n",
       "      <th></th>\n",
       "      <th></th>\n",
       "      <th></th>\n",
       "    </tr>\n",
       "  </thead>\n",
       "  <tbody>\n",
       "    <tr>\n",
       "      <th>1995-01</th>\n",
       "      <td>APU0000701111</td>\n",
       "      <td>1995</td>\n",
       "      <td>0.238</td>\n",
       "      <td>NaN</td>\n",
       "    </tr>\n",
       "    <tr>\n",
       "      <th>1995-02</th>\n",
       "      <td>APU0000701111</td>\n",
       "      <td>1995</td>\n",
       "      <td>0.242</td>\n",
       "      <td>NaN</td>\n",
       "    </tr>\n",
       "    <tr>\n",
       "      <th>1995-03</th>\n",
       "      <td>APU0000701111</td>\n",
       "      <td>1995</td>\n",
       "      <td>0.242</td>\n",
       "      <td>NaN</td>\n",
       "    </tr>\n",
       "    <tr>\n",
       "      <th>1995-04</th>\n",
       "      <td>APU0000701111</td>\n",
       "      <td>1995</td>\n",
       "      <td>0.236</td>\n",
       "      <td>NaN</td>\n",
       "    </tr>\n",
       "    <tr>\n",
       "      <th>1995-05</th>\n",
       "      <td>APU0000701111</td>\n",
       "      <td>1995</td>\n",
       "      <td>0.244</td>\n",
       "      <td>NaN</td>\n",
       "    </tr>\n",
       "  </tbody>\n",
       "</table>\n",
       "</div>"
      ],
      "text/plain": [
       "             series_id  year  value  footnote_codes\n",
       "period                                             \n",
       "1995-01  APU0000701111  1995  0.238             NaN\n",
       "1995-02  APU0000701111  1995  0.242             NaN\n",
       "1995-03  APU0000701111  1995  0.242             NaN\n",
       "1995-04  APU0000701111  1995  0.236             NaN\n",
       "1995-05  APU0000701111  1995  0.244             NaN"
      ]
     },
     "execution_count": 19,
     "metadata": {},
     "output_type": "execute_result"
    }
   ],
   "source": [
    "cpi_index.head()"
   ]
  },
  {
   "cell_type": "code",
   "execution_count": 20,
   "id": "6f164762",
   "metadata": {},
   "outputs": [
    {
     "data": {
      "text/html": [
       "<div>\n",
       "<style scoped>\n",
       "    .dataframe tbody tr th:only-of-type {\n",
       "        vertical-align: middle;\n",
       "    }\n",
       "\n",
       "    .dataframe tbody tr th {\n",
       "        vertical-align: top;\n",
       "    }\n",
       "\n",
       "    .dataframe thead th {\n",
       "        text-align: right;\n",
       "    }\n",
       "</style>\n",
       "<table border=\"1\" class=\"dataframe\">\n",
       "  <thead>\n",
       "    <tr style=\"text-align: right;\">\n",
       "      <th></th>\n",
       "      <th>federal_funds_effective_rate</th>\n",
       "    </tr>\n",
       "    <tr>\n",
       "      <th>period</th>\n",
       "      <th></th>\n",
       "    </tr>\n",
       "  </thead>\n",
       "  <tbody>\n",
       "    <tr>\n",
       "      <th>1954-07</th>\n",
       "      <td>1.076</td>\n",
       "    </tr>\n",
       "  </tbody>\n",
       "</table>\n",
       "</div>"
      ],
      "text/plain": [
       "         federal_funds_effective_rate\n",
       "period                               \n",
       "1954-07                         1.076"
      ]
     },
     "execution_count": 20,
     "metadata": {},
     "output_type": "execute_result"
    }
   ],
   "source": [
    "federal_funds_rates.head()"
   ]
  },
  {
   "cell_type": "code",
   "execution_count": 22,
   "id": "ae7117af",
   "metadata": {},
   "outputs": [],
   "source": [
    "cpi_index = cpi_index.groupby(\"period\").mean(numeric_only=True)"
   ]
  },
  {
   "cell_type": "code",
   "execution_count": 23,
   "id": "64d0a412",
   "metadata": {},
   "outputs": [],
   "source": [
    "federal_funds_rates_array = federal_funds_rates.loc[federal_funds_rates.index >= '2000'].index.to_numpy()"
   ]
  },
  {
   "cell_type": "code",
   "execution_count": 24,
   "id": "1e125ad4",
   "metadata": {},
   "outputs": [],
   "source": [
    "cpi_index_array = cpi_index.loc[cpi_index.index >= '2000'].index.to_numpy()"
   ]
  },
  {
   "cell_type": "code",
   "execution_count": 25,
   "id": "3b4c1348",
   "metadata": {},
   "outputs": [],
   "source": [
    "federal_funds_rates_after_2000 = federal_funds_rates.loc[federal_funds_rates.index >= '2000']"
   ]
  },
  {
   "cell_type": "code",
   "execution_count": 26,
   "id": "d306faa3",
   "metadata": {},
   "outputs": [],
   "source": [
    "cpi_index_after_2000 = cpi_index.loc[cpi_index.index >= '2000']"
   ]
  },
  {
   "cell_type": "code",
   "execution_count": 27,
   "id": "1a550711",
   "metadata": {},
   "outputs": [],
   "source": [
    "federal_funds_rates_array_after_2000 = federal_funds_rates_after_2000[\"federal_funds_effective_rate\"].to_numpy()"
   ]
  },
  {
   "cell_type": "code",
   "execution_count": 28,
   "id": "7332f07a",
   "metadata": {},
   "outputs": [],
   "source": [
    "cpi_index_array_after_2000 = cpi_index_after_2000[\"value\"].to_numpy()"
   ]
  },
  {
   "cell_type": "code",
   "execution_count": 29,
   "id": "35163dbd",
   "metadata": {},
   "outputs": [],
   "source": [
    "series = zip(cpi_index_array_after_2000, federal_funds_rates_array_after_2000)"
   ]
  },
  {
   "cell_type": "code",
   "execution_count": 38,
   "id": "1c789073-914c-4f6d-8321-9ca7ae0aea56",
   "metadata": {},
   "outputs": [
    {
     "ename": "AttributeError",
     "evalue": "'zip' object has no attribute 'head'",
     "output_type": "error",
     "traceback": [
      "\u001b[0;31m---------------------------------------------------------------------------\u001b[0m",
      "\u001b[0;31mAttributeError\u001b[0m                            Traceback (most recent call last)",
      "Cell \u001b[0;32mIn[38], line 1\u001b[0m\n\u001b[0;32m----> 1\u001b[0m \u001b[43mseries\u001b[49m\u001b[38;5;241;43m.\u001b[39;49m\u001b[43mhead\u001b[49m()\n",
      "\u001b[0;31mAttributeError\u001b[0m: 'zip' object has no attribute 'head'"
     ]
    }
   ],
   "source": [
    "series.head()"
   ]
  },
  {
   "cell_type": "code",
   "execution_count": 30,
   "id": "bca1cc8a",
   "metadata": {},
   "outputs": [],
   "source": [
    "x = np.array([])\n",
    "y = np.array([])\n",
    "\n",
    "for x_value, y_value in series:\n",
    "    x = np.append(x, x_value)\n",
    "    y = np.append(y, y_value)\n"
   ]
  },
  {
   "cell_type": "code",
   "execution_count": 43,
   "id": "f57c990b-4bc4-4311-9a7d-deef39c74577",
   "metadata": {},
   "outputs": [
    {
     "data": {
      "text/html": [
       "<div>\n",
       "<style scoped>\n",
       "    .dataframe tbody tr th:only-of-type {\n",
       "        vertical-align: middle;\n",
       "    }\n",
       "\n",
       "    .dataframe tbody tr th {\n",
       "        vertical-align: top;\n",
       "    }\n",
       "\n",
       "    .dataframe thead th {\n",
       "        text-align: right;\n",
       "    }\n",
       "</style>\n",
       "<table border=\"1\" class=\"dataframe\">\n",
       "  <thead>\n",
       "    <tr style=\"text-align: right;\">\n",
       "      <th></th>\n",
       "      <th>year</th>\n",
       "      <th>value</th>\n",
       "      <th>footnote_codes</th>\n",
       "    </tr>\n",
       "    <tr>\n",
       "      <th>period</th>\n",
       "      <th></th>\n",
       "      <th></th>\n",
       "      <th></th>\n",
       "    </tr>\n",
       "  </thead>\n",
       "  <tbody>\n",
       "    <tr>\n",
       "      <th>1995-01</th>\n",
       "      <td>1995.0</td>\n",
       "      <td>0.238</td>\n",
       "      <td>NaN</td>\n",
       "    </tr>\n",
       "    <tr>\n",
       "      <th>1995-02</th>\n",
       "      <td>1995.0</td>\n",
       "      <td>0.242</td>\n",
       "      <td>NaN</td>\n",
       "    </tr>\n",
       "    <tr>\n",
       "      <th>1995-03</th>\n",
       "      <td>1995.0</td>\n",
       "      <td>0.242</td>\n",
       "      <td>NaN</td>\n",
       "    </tr>\n",
       "    <tr>\n",
       "      <th>1995-04</th>\n",
       "      <td>1995.0</td>\n",
       "      <td>0.236</td>\n",
       "      <td>NaN</td>\n",
       "    </tr>\n",
       "    <tr>\n",
       "      <th>1995-05</th>\n",
       "      <td>1995.0</td>\n",
       "      <td>0.244</td>\n",
       "      <td>NaN</td>\n",
       "    </tr>\n",
       "    <tr>\n",
       "      <th>1995-06</th>\n",
       "      <td>1995.0</td>\n",
       "      <td>0.244</td>\n",
       "      <td>NaN</td>\n",
       "    </tr>\n",
       "    <tr>\n",
       "      <th>1995-07</th>\n",
       "      <td>1995.0</td>\n",
       "      <td>0.248</td>\n",
       "      <td>NaN</td>\n",
       "    </tr>\n",
       "    <tr>\n",
       "      <th>1995-08</th>\n",
       "      <td>1995.0</td>\n",
       "      <td>0.255</td>\n",
       "      <td>NaN</td>\n",
       "    </tr>\n",
       "    <tr>\n",
       "      <th>1995-09</th>\n",
       "      <td>1995.0</td>\n",
       "      <td>0.256</td>\n",
       "      <td>NaN</td>\n",
       "    </tr>\n",
       "    <tr>\n",
       "      <th>1995-10</th>\n",
       "      <td>1995.0</td>\n",
       "      <td>0.254</td>\n",
       "      <td>NaN</td>\n",
       "    </tr>\n",
       "  </tbody>\n",
       "</table>\n",
       "</div>"
      ],
      "text/plain": [
       "           year  value  footnote_codes\n",
       "period                                \n",
       "1995-01  1995.0  0.238             NaN\n",
       "1995-02  1995.0  0.242             NaN\n",
       "1995-03  1995.0  0.242             NaN\n",
       "1995-04  1995.0  0.236             NaN\n",
       "1995-05  1995.0  0.244             NaN\n",
       "1995-06  1995.0  0.244             NaN\n",
       "1995-07  1995.0  0.248             NaN\n",
       "1995-08  1995.0  0.255             NaN\n",
       "1995-09  1995.0  0.256             NaN\n",
       "1995-10  1995.0  0.254             NaN"
      ]
     },
     "execution_count": 43,
     "metadata": {},
     "output_type": "execute_result"
    }
   ],
   "source": [
    "cpi_index"
   ]
  },
  {
   "cell_type": "code",
   "execution_count": 44,
   "id": "38d44d8b-5ea4-42d8-b3e8-8a07f617e4f3",
   "metadata": {},
   "outputs": [
    {
     "data": {
      "text/html": [
       "<div>\n",
       "<style scoped>\n",
       "    .dataframe tbody tr th:only-of-type {\n",
       "        vertical-align: middle;\n",
       "    }\n",
       "\n",
       "    .dataframe tbody tr th {\n",
       "        vertical-align: top;\n",
       "    }\n",
       "\n",
       "    .dataframe thead th {\n",
       "        text-align: right;\n",
       "    }\n",
       "</style>\n",
       "<table border=\"1\" class=\"dataframe\">\n",
       "  <thead>\n",
       "    <tr style=\"text-align: right;\">\n",
       "      <th></th>\n",
       "      <th>federal_funds_effective_rate</th>\n",
       "    </tr>\n",
       "    <tr>\n",
       "      <th>period</th>\n",
       "      <th></th>\n",
       "    </tr>\n",
       "  </thead>\n",
       "  <tbody>\n",
       "    <tr>\n",
       "      <th>1954-07</th>\n",
       "      <td>1.076</td>\n",
       "    </tr>\n",
       "  </tbody>\n",
       "</table>\n",
       "</div>"
      ],
      "text/plain": [
       "         federal_funds_effective_rate\n",
       "period                               \n",
       "1954-07                         1.076"
      ]
     },
     "execution_count": 44,
     "metadata": {},
     "output_type": "execute_result"
    }
   ],
   "source": [
    "federal_funds_rates"
   ]
  },
  {
   "cell_type": "code",
   "execution_count": 40,
   "id": "0e768e00-fa52-41cc-a35e-946d2bca812a",
   "metadata": {},
   "outputs": [
    {
     "name": "stdout",
     "output_type": "stream",
     "text": [
      "(10, 3)\n",
      "(1, 1)\n"
     ]
    }
   ],
   "source": [
    "print(cpi_index.shape)  # Check if the DataFrame has rows\n",
    "print(federal_funds_rates.shape)\n"
   ]
  },
  {
   "cell_type": "code",
   "execution_count": 45,
   "id": "4d376bbe-e2b8-48b1-a34c-598c46b578a5",
   "metadata": {},
   "outputs": [
    {
     "name": "stdout",
     "output_type": "stream",
     "text": [
      "1995-01 1995-10\n",
      "1954-07 1954-07\n"
     ]
    }
   ],
   "source": [
    "print(cpi_index.index.min(), cpi_index.index.max())  # Check range of CPI index\n",
    "print(federal_funds_rates.index.min(), federal_funds_rates.index.max())  # Check range of federal funds rate\n"
   ]
  },
  {
   "cell_type": "code",
   "execution_count": 39,
   "id": "cfe382ae-32f5-4ee8-a446-eb9adc72a21e",
   "metadata": {},
   "outputs": [
    {
     "name": "stdout",
     "output_type": "stream",
     "text": [
      "0 0\n"
     ]
    }
   ],
   "source": [
    "print(len(x), len(y))"
   ]
  },
  {
   "cell_type": "code",
   "execution_count": 31,
   "id": "ea7e8e24",
   "metadata": {},
   "outputs": [
    {
     "data": {
      "image/png": "[encoded data removed]",
      "text/plain": [
       "<Figure size 640x480 with 1 Axes>"
      ]
     },
     "metadata": {},
     "output_type": "display_data"
    }
   ],
   "source": [
    "line_plot(x=x, \n",
    "          y=y, \n",
    "          x_label=\"CPI Index\", \n",
    "          y_label=\"Federal Funds Rate\",\n",
    "          title=\"CPI Index VS. Federal Funds Rate\")"
   ]
  },
  {
   "cell_type": "code",
   "execution_count": 32,
   "id": "d66e89fd",
   "metadata": {},
   "outputs": [
    {
     "data": {
      "text/plain": [
       "<Axes: xlabel='CPI Index', ylabel='Federal Funds Rate'>"
      ]
     },
     "execution_count": 32,
     "metadata": {},
     "output_type": "execute_result"
    },
    {
     "data": {
      "image/png": "[encoded data removed]",
      "text/plain": [
       "<Figure size 640x480 with 1 Axes>"
      ]
     },
     "metadata": {},
     "output_type": "display_data"
    }
   ],
   "source": [
    "cpi_csv_ffr = pd.DataFrame({'CPI Index': x, 'Federal Funds Rate': x})\n",
    "cpi_csv_ffr.plot('CPI Index', 'Federal Funds Rate', kind='scatter')"
   ]
  },
  {
   "cell_type": "code",
   "execution_count": 33,
   "id": "c1e46aac",
   "metadata": {},
   "outputs": [],
   "source": [
    "series = zip(federal_funds_rates_array_after_2000, cpi_index_array_after_2000)"
   ]
  },
  {
   "cell_type": "code",
   "execution_count": 34,
   "id": "34966451",
   "metadata": {},
   "outputs": [],
   "source": [
    "x = np.array([])\n",
    "y = np.array([])\n",
    "\n",
    "for x_value, y_value in series:\n",
    "    x = np.append(x, x_value)\n",
    "    y = np.append(y, y_value)"
   ]
  },
  {
   "cell_type": "code",
   "execution_count": 35,
   "id": "b5418ca1",
   "metadata": {},
   "outputs": [
    {
     "data": {
      "image/png": "[encoded data removed]",
      "text/plain": [
       "<Figure size 640x480 with 1 Axes>"
      ]
     },
     "metadata": {},
     "output_type": "display_data"
    }
   ],
   "source": [
    "line_plot(x=x, \n",
    "          y=y, \n",
    "          x_label=\"Federal Funds Rate\", \n",
    "          y_label=\"CPI Index\",\n",
    "          title=\"CPI Index VS. Federal Funds Rate\")"
   ]
  },
  {
   "cell_type": "code",
   "execution_count": null,
   "id": "0874e205",
   "metadata": {},
   "outputs": [],
   "source": []
  }
 ],
 "metadata": {
  "kernelspec": {
   "display_name": "Python 3 (ipykernel)",
   "language": "python",
   "name": "python3"
  },
  "language_info": {
   "codemirror_mode": {
    "name": "ipython",
    "version": 3
   },
   "file_extension": ".py",
   "mimetype": "text/x-python",
   "name": "python",
   "nbconvert_exporter": "python",
   "pygments_lexer": "ipython3",
   "version": "3.9.5"
  }
 },
 "nbformat": 4,
 "nbformat_minor": 5
}
