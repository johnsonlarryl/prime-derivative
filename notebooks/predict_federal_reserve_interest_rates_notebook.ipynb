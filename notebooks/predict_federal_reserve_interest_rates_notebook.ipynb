{
 "cells": [
  {
   "cell_type": "code",
   "execution_count": 2,
   "id": "d755c63d",
   "metadata": {},
   "outputs": [],
   "source": [
    "# Imports\n",
    "import matplotlib.pyplot as plt\n",
    "import pandas as pd\n",
    "from pandas import Series\n",
    "from predict_federal_reserve_interest_rates.util.date import parse_cpi_index_period\n",
    "from predict_federal_reserve_interest_rates.util.viz import line_plot"
   ]
  },
  {
   "cell_type": "code",
   "execution_count": 3,
   "id": "3e9692bf",
   "metadata": {},
   "outputs": [],
   "source": [
    "# Importdata\n",
    "# cpi_index_df = pd.read_csv(\"predict_federal_reserve_interest_rates/data/bls/cpi/bls_cpi_overall.txt\",\n",
    "#                            dtype = {'series_id': str,\n",
    "#                                     'year': int,\n",
    "#                                     'period': str,\n",
    "#                                     'value': float,\n",
    "#                                     'footnote_codes': str},\n",
    "#                            delim_whitespace=True)\n",
    "# cpi_index_df.rename(columns={\"value\": \"rate\"})"
   ]
  },
  {
   "cell_type": "code",
   "execution_count": 4,
   "id": "ae05a449",
   "metadata": {},
   "outputs": [],
   "source": [
    "# Import data\n",
    "cpi_index = pd.read_csv(\"data/bls/cpi/bls_cpi_current.txt\", delim_whitespace=True)"
   ]
  },
  {
   "cell_type": "code",
   "execution_count": 5,
   "id": "1477e525",
   "metadata": {},
   "outputs": [
    {
     "data": {
      "text/html": [
       "<div>\n",
       "<style scoped>\n",
       "    .dataframe tbody tr th:only-of-type {\n",
       "        vertical-align: middle;\n",
       "    }\n",
       "\n",
       "    .dataframe tbody tr th {\n",
       "        vertical-align: top;\n",
       "    }\n",
       "\n",
       "    .dataframe thead th {\n",
       "        text-align: right;\n",
       "    }\n",
       "</style>\n",
       "<table border=\"1\" class=\"dataframe\">\n",
       "  <thead>\n",
       "    <tr style=\"text-align: right;\">\n",
       "      <th></th>\n",
       "      <th>series_id</th>\n",
       "      <th>year</th>\n",
       "      <th>period</th>\n",
       "      <th>value</th>\n",
       "      <th>footnote_codes</th>\n",
       "    </tr>\n",
       "  </thead>\n",
       "  <tbody>\n",
       "    <tr>\n",
       "      <th>0</th>\n",
       "      <td>APU0000701111</td>\n",
       "      <td>1995</td>\n",
       "      <td>M01</td>\n",
       "      <td>0.238</td>\n",
       "      <td>NaN</td>\n",
       "    </tr>\n",
       "    <tr>\n",
       "      <th>1</th>\n",
       "      <td>APU0000701111</td>\n",
       "      <td>1995</td>\n",
       "      <td>M02</td>\n",
       "      <td>0.242</td>\n",
       "      <td>NaN</td>\n",
       "    </tr>\n",
       "    <tr>\n",
       "      <th>2</th>\n",
       "      <td>APU0000701111</td>\n",
       "      <td>1995</td>\n",
       "      <td>M03</td>\n",
       "      <td>0.242</td>\n",
       "      <td>NaN</td>\n",
       "    </tr>\n",
       "    <tr>\n",
       "      <th>3</th>\n",
       "      <td>APU0000701111</td>\n",
       "      <td>1995</td>\n",
       "      <td>M04</td>\n",
       "      <td>0.236</td>\n",
       "      <td>NaN</td>\n",
       "    </tr>\n",
       "    <tr>\n",
       "      <th>4</th>\n",
       "      <td>APU0000701111</td>\n",
       "      <td>1995</td>\n",
       "      <td>M05</td>\n",
       "      <td>0.244</td>\n",
       "      <td>NaN</td>\n",
       "    </tr>\n",
       "  </tbody>\n",
       "</table>\n",
       "</div>"
      ],
      "text/plain": [
       "       series_id  year period  value footnote_codes\n",
       "0  APU0000701111  1995    M01  0.238            NaN\n",
       "1  APU0000701111  1995    M02  0.242            NaN\n",
       "2  APU0000701111  1995    M03  0.242            NaN\n",
       "3  APU0000701111  1995    M04  0.236            NaN\n",
       "4  APU0000701111  1995    M05  0.244            NaN"
      ]
     },
     "execution_count": 5,
     "metadata": {},
     "output_type": "execute_result"
    }
   ],
   "source": [
    "cpi_index.head()"
   ]
  },
  {
   "cell_type": "code",
   "execution_count": 6,
   "id": "5b2ae66c",
   "metadata": {},
   "outputs": [
    {
     "name": "stderr",
     "output_type": "stream",
     "text": [
      "/var/folders/3n/7kvkbqjd0l9grdj7kptkcfgr0000gn/T/ipykernel_21374/2130061905.py:1: FutureWarning: The default value of numeric_only in DataFrame.mean is deprecated. In a future version, it will default to False. In addition, specifying 'numeric_only=None' is deprecated. Select only valid columns or specify the value of numeric_only to silence this warning.\n",
      "  cpi_index.mean()\n"
     ]
    },
    {
     "data": {
      "text/plain": [
       "year    2007.653449\n",
       "dtype: float64"
      ]
     },
     "execution_count": 6,
     "metadata": {},
     "output_type": "execute_result"
    }
   ],
   "source": [
    "cpi_index.mean()"
   ]
  },
  {
   "cell_type": "code",
   "execution_count": 135,
   "id": "48553dac",
   "metadata": {},
   "outputs": [],
   "source": [
    "# Clean up values for various items in the CPI\n",
    "cpi_index['value'] = cpi_index['value'].replace(['-'], 0.00)\n",
    "cpi_index = cpi_index.astype({'value': 'float64'})"
   ]
  },
  {
   "cell_type": "code",
   "execution_count": 136,
   "id": "389f8c6a",
   "metadata": {},
   "outputs": [
    {
     "data": {
      "text/html": [
       "<div>\n",
       "<style scoped>\n",
       "    .dataframe tbody tr th:only-of-type {\n",
       "        vertical-align: middle;\n",
       "    }\n",
       "\n",
       "    .dataframe tbody tr th {\n",
       "        vertical-align: top;\n",
       "    }\n",
       "\n",
       "    .dataframe thead th {\n",
       "        text-align: right;\n",
       "    }\n",
       "</style>\n",
       "<table border=\"1\" class=\"dataframe\">\n",
       "  <thead>\n",
       "    <tr style=\"text-align: right;\">\n",
       "      <th></th>\n",
       "      <th>series_id</th>\n",
       "      <th>year</th>\n",
       "      <th>period</th>\n",
       "      <th>value</th>\n",
       "      <th>footnote_codes</th>\n",
       "    </tr>\n",
       "  </thead>\n",
       "  <tbody>\n",
       "    <tr>\n",
       "      <th>10667</th>\n",
       "      <td>APU0000710211</td>\n",
       "      <td>2018</td>\n",
       "      <td>M11</td>\n",
       "      <td>0.0</td>\n",
       "      <td>NaN</td>\n",
       "    </tr>\n",
       "  </tbody>\n",
       "</table>\n",
       "</div>"
      ],
      "text/plain": [
       "           series_id  year period  value footnote_codes\n",
       "10667  APU0000710211  2018    M11    0.0            NaN"
      ]
     },
     "execution_count": 136,
     "metadata": {},
     "output_type": "execute_result"
    }
   ],
   "source": [
    "cpi_index.iloc[[10667]]"
   ]
  },
  {
   "cell_type": "code",
   "execution_count": 137,
   "id": "7b87977f",
   "metadata": {},
   "outputs": [
    {
     "data": {
      "text/plain": [
       "(190076, 5)"
      ]
     },
     "execution_count": 137,
     "metadata": {},
     "output_type": "execute_result"
    }
   ],
   "source": [
    "cpi_index.shape"
   ]
  },
  {
   "cell_type": "code",
   "execution_count": 138,
   "id": "e11fbb15",
   "metadata": {},
   "outputs": [],
   "source": [
    "def get_period(row: Series):\n",
    "    return parse_cpi_index_period(row[\"year\"], row[\"period\"])"
   ]
  },
  {
   "cell_type": "code",
   "execution_count": 139,
   "id": "3a9e7634",
   "metadata": {},
   "outputs": [],
   "source": [
    "cpi_index['period'] = cpi_index.apply(lambda row: get_period(row), axis=1)"
   ]
  },
  {
   "cell_type": "code",
   "execution_count": 140,
   "id": "f75378fe",
   "metadata": {},
   "outputs": [
    {
     "data": {
      "text/plain": [
       "series_id            object\n",
       "year                  int64\n",
       "period            period[M]\n",
       "value               float64\n",
       "footnote_codes       object\n",
       "dtype: object"
      ]
     },
     "execution_count": 140,
     "metadata": {},
     "output_type": "execute_result"
    }
   ],
   "source": [
    "cpi_index.dtypes"
   ]
  },
  {
   "cell_type": "code",
   "execution_count": 141,
   "id": "ae57a8d8",
   "metadata": {},
   "outputs": [
    {
     "data": {
      "text/html": [
       "<div>\n",
       "<style scoped>\n",
       "    .dataframe tbody tr th:only-of-type {\n",
       "        vertical-align: middle;\n",
       "    }\n",
       "\n",
       "    .dataframe tbody tr th {\n",
       "        vertical-align: top;\n",
       "    }\n",
       "\n",
       "    .dataframe thead th {\n",
       "        text-align: right;\n",
       "    }\n",
       "</style>\n",
       "<table border=\"1\" class=\"dataframe\">\n",
       "  <thead>\n",
       "    <tr style=\"text-align: right;\">\n",
       "      <th></th>\n",
       "      <th>series_id</th>\n",
       "      <th>year</th>\n",
       "      <th>period</th>\n",
       "      <th>value</th>\n",
       "      <th>footnote_codes</th>\n",
       "    </tr>\n",
       "  </thead>\n",
       "  <tbody>\n",
       "    <tr>\n",
       "      <th>0</th>\n",
       "      <td>APU0000701111</td>\n",
       "      <td>1995</td>\n",
       "      <td>1995-01</td>\n",
       "      <td>0.238</td>\n",
       "      <td>NaN</td>\n",
       "    </tr>\n",
       "    <tr>\n",
       "      <th>1</th>\n",
       "      <td>APU0000701111</td>\n",
       "      <td>1995</td>\n",
       "      <td>1995-02</td>\n",
       "      <td>0.242</td>\n",
       "      <td>NaN</td>\n",
       "    </tr>\n",
       "    <tr>\n",
       "      <th>2</th>\n",
       "      <td>APU0000701111</td>\n",
       "      <td>1995</td>\n",
       "      <td>1995-03</td>\n",
       "      <td>0.242</td>\n",
       "      <td>NaN</td>\n",
       "    </tr>\n",
       "    <tr>\n",
       "      <th>3</th>\n",
       "      <td>APU0000701111</td>\n",
       "      <td>1995</td>\n",
       "      <td>1995-04</td>\n",
       "      <td>0.236</td>\n",
       "      <td>NaN</td>\n",
       "    </tr>\n",
       "    <tr>\n",
       "      <th>4</th>\n",
       "      <td>APU0000701111</td>\n",
       "      <td>1995</td>\n",
       "      <td>1995-05</td>\n",
       "      <td>0.244</td>\n",
       "      <td>NaN</td>\n",
       "    </tr>\n",
       "  </tbody>\n",
       "</table>\n",
       "</div>"
      ],
      "text/plain": [
       "       series_id  year   period  value footnote_codes\n",
       "0  APU0000701111  1995  1995-01  0.238            NaN\n",
       "1  APU0000701111  1995  1995-02  0.242            NaN\n",
       "2  APU0000701111  1995  1995-03  0.242            NaN\n",
       "3  APU0000701111  1995  1995-04  0.236            NaN\n",
       "4  APU0000701111  1995  1995-05  0.244            NaN"
      ]
     },
     "execution_count": 141,
     "metadata": {},
     "output_type": "execute_result"
    }
   ],
   "source": [
    "cpi_index.head()"
   ]
  },
  {
   "cell_type": "code",
   "execution_count": 142,
   "id": "1954cf53",
   "metadata": {},
   "outputs": [],
   "source": [
    "cpi_index = cpi_index.set_index('period')"
   ]
  },
  {
   "cell_type": "code",
   "execution_count": 143,
   "id": "1f4c854f",
   "metadata": {},
   "outputs": [
    {
     "data": {
      "text/plain": [
       "PeriodIndex(['1995-01', '1995-02', '1995-03', '1995-04', '1995-05', '1995-06',\n",
       "             '1995-07', '1995-08', '1995-09', '1995-10',\n",
       "             ...\n",
       "             '2021-11', '2021-12', '2022-01', '2022-02', '2022-03', '2022-04',\n",
       "             '2022-05', '2022-06', '2022-07', '2022-08'],\n",
       "            dtype='period[M]', name='period', length=190076)"
      ]
     },
     "execution_count": 143,
     "metadata": {},
     "output_type": "execute_result"
    }
   ],
   "source": [
    "cpi_index.index"
   ]
  },
  {
   "cell_type": "code",
   "execution_count": 144,
   "id": "da8301ba",
   "metadata": {},
   "outputs": [
    {
     "data": {
      "text/html": [
       "<div>\n",
       "<style scoped>\n",
       "    .dataframe tbody tr th:only-of-type {\n",
       "        vertical-align: middle;\n",
       "    }\n",
       "\n",
       "    .dataframe tbody tr th {\n",
       "        vertical-align: top;\n",
       "    }\n",
       "\n",
       "    .dataframe thead th {\n",
       "        text-align: right;\n",
       "    }\n",
       "</style>\n",
       "<table border=\"1\" class=\"dataframe\">\n",
       "  <thead>\n",
       "    <tr style=\"text-align: right;\">\n",
       "      <th></th>\n",
       "      <th>series_id</th>\n",
       "      <th>year</th>\n",
       "      <th>value</th>\n",
       "      <th>footnote_codes</th>\n",
       "    </tr>\n",
       "    <tr>\n",
       "      <th>period</th>\n",
       "      <th></th>\n",
       "      <th></th>\n",
       "      <th></th>\n",
       "      <th></th>\n",
       "    </tr>\n",
       "  </thead>\n",
       "  <tbody>\n",
       "    <tr>\n",
       "      <th>2022-04</th>\n",
       "      <td>APUS49G7471A</td>\n",
       "      <td>2022</td>\n",
       "      <td>4.733</td>\n",
       "      <td>NaN</td>\n",
       "    </tr>\n",
       "    <tr>\n",
       "      <th>2022-05</th>\n",
       "      <td>APUS49G7471A</td>\n",
       "      <td>2022</td>\n",
       "      <td>5.035</td>\n",
       "      <td>NaN</td>\n",
       "    </tr>\n",
       "    <tr>\n",
       "      <th>2022-06</th>\n",
       "      <td>APUS49G7471A</td>\n",
       "      <td>2022</td>\n",
       "      <td>5.582</td>\n",
       "      <td>NaN</td>\n",
       "    </tr>\n",
       "    <tr>\n",
       "      <th>2022-07</th>\n",
       "      <td>APUS49G7471A</td>\n",
       "      <td>2022</td>\n",
       "      <td>5.451</td>\n",
       "      <td>NaN</td>\n",
       "    </tr>\n",
       "    <tr>\n",
       "      <th>2022-08</th>\n",
       "      <td>APUS49G7471A</td>\n",
       "      <td>2022</td>\n",
       "      <td>4.976</td>\n",
       "      <td>NaN</td>\n",
       "    </tr>\n",
       "  </tbody>\n",
       "</table>\n",
       "</div>"
      ],
      "text/plain": [
       "            series_id  year  value footnote_codes\n",
       "period                                           \n",
       "2022-04  APUS49G7471A  2022  4.733            NaN\n",
       "2022-05  APUS49G7471A  2022  5.035            NaN\n",
       "2022-06  APUS49G7471A  2022  5.582            NaN\n",
       "2022-07  APUS49G7471A  2022  5.451            NaN\n",
       "2022-08  APUS49G7471A  2022  4.976            NaN"
      ]
     },
     "execution_count": 144,
     "metadata": {},
     "output_type": "execute_result"
    }
   ],
   "source": [
    "cpi_index.tail()"
   ]
  },
  {
   "cell_type": "code",
   "execution_count": 103,
   "id": "0ae68aad",
   "metadata": {},
   "outputs": [
    {
     "data": {
      "text/plain": [
       "4131"
      ]
     },
     "execution_count": 103,
     "metadata": {},
     "output_type": "execute_result"
    }
   ],
   "source": [
    "len(cpi_index[cpi_index['year'] == 2022])"
   ]
  },
  {
   "cell_type": "code",
   "execution_count": 109,
   "id": "d6cc1cdb",
   "metadata": {},
   "outputs": [
    {
     "data": {
      "text/plain": [
       "515"
      ]
     },
     "execution_count": 109,
     "metadata": {},
     "output_type": "execute_result"
    }
   ],
   "source": [
    "len(cpi_index.loc[cpi_index.index == '2022'])"
   ]
  },
  {
   "cell_type": "code",
   "execution_count": 49,
   "id": "1ea2645e",
   "metadata": {},
   "outputs": [
    {
     "data": {
      "text/plain": [
       "series_id          object\n",
       "year                int64\n",
       "value             float64\n",
       "footnote_codes     object\n",
       "dtype: object"
      ]
     },
     "execution_count": 49,
     "metadata": {},
     "output_type": "execute_result"
    }
   ],
   "source": [
    "cpi_index.dtypes"
   ]
  },
  {
   "cell_type": "code",
   "execution_count": 50,
   "id": "5ff3fa3b",
   "metadata": {},
   "outputs": [
    {
     "data": {
      "text/html": [
       "<div>\n",
       "<style scoped>\n",
       "    .dataframe tbody tr th:only-of-type {\n",
       "        vertical-align: middle;\n",
       "    }\n",
       "\n",
       "    .dataframe tbody tr th {\n",
       "        vertical-align: top;\n",
       "    }\n",
       "\n",
       "    .dataframe thead th {\n",
       "        text-align: right;\n",
       "    }\n",
       "</style>\n",
       "<table border=\"1\" class=\"dataframe\">\n",
       "  <thead>\n",
       "    <tr style=\"text-align: right;\">\n",
       "      <th></th>\n",
       "      <th>series_id</th>\n",
       "      <th>year</th>\n",
       "      <th>value</th>\n",
       "      <th>footnote_codes</th>\n",
       "    </tr>\n",
       "    <tr>\n",
       "      <th>period</th>\n",
       "      <th></th>\n",
       "      <th></th>\n",
       "      <th></th>\n",
       "      <th></th>\n",
       "    </tr>\n",
       "  </thead>\n",
       "  <tbody>\n",
       "    <tr>\n",
       "      <th>1995-01</th>\n",
       "      <td>APU0000701111</td>\n",
       "      <td>1995</td>\n",
       "      <td>0.238</td>\n",
       "      <td>NaN</td>\n",
       "    </tr>\n",
       "    <tr>\n",
       "      <th>1995-02</th>\n",
       "      <td>APU0000701111</td>\n",
       "      <td>1995</td>\n",
       "      <td>0.242</td>\n",
       "      <td>NaN</td>\n",
       "    </tr>\n",
       "    <tr>\n",
       "      <th>1995-03</th>\n",
       "      <td>APU0000701111</td>\n",
       "      <td>1995</td>\n",
       "      <td>0.242</td>\n",
       "      <td>NaN</td>\n",
       "    </tr>\n",
       "    <tr>\n",
       "      <th>1995-04</th>\n",
       "      <td>APU0000701111</td>\n",
       "      <td>1995</td>\n",
       "      <td>0.236</td>\n",
       "      <td>NaN</td>\n",
       "    </tr>\n",
       "    <tr>\n",
       "      <th>1995-05</th>\n",
       "      <td>APU0000701111</td>\n",
       "      <td>1995</td>\n",
       "      <td>0.244</td>\n",
       "      <td>NaN</td>\n",
       "    </tr>\n",
       "  </tbody>\n",
       "</table>\n",
       "</div>"
      ],
      "text/plain": [
       "             series_id  year  value footnote_codes\n",
       "period                                            \n",
       "1995-01  APU0000701111  1995  0.238            NaN\n",
       "1995-02  APU0000701111  1995  0.242            NaN\n",
       "1995-03  APU0000701111  1995  0.242            NaN\n",
       "1995-04  APU0000701111  1995  0.236            NaN\n",
       "1995-05  APU0000701111  1995  0.244            NaN"
      ]
     },
     "execution_count": 50,
     "metadata": {},
     "output_type": "execute_result"
    }
   ],
   "source": [
    "cpi_index.head()"
   ]
  },
  {
   "cell_type": "code",
   "execution_count": 51,
   "id": "14c9d8a6",
   "metadata": {},
   "outputs": [
    {
     "data": {
      "text/html": [
       "<div>\n",
       "<style scoped>\n",
       "    .dataframe tbody tr th:only-of-type {\n",
       "        vertical-align: middle;\n",
       "    }\n",
       "\n",
       "    .dataframe tbody tr th {\n",
       "        vertical-align: top;\n",
       "    }\n",
       "\n",
       "    .dataframe thead th {\n",
       "        text-align: right;\n",
       "    }\n",
       "</style>\n",
       "<table border=\"1\" class=\"dataframe\">\n",
       "  <thead>\n",
       "    <tr style=\"text-align: right;\">\n",
       "      <th></th>\n",
       "      <th>series_id</th>\n",
       "      <th>year</th>\n",
       "      <th>value</th>\n",
       "      <th>footnote_codes</th>\n",
       "    </tr>\n",
       "    <tr>\n",
       "      <th>period</th>\n",
       "      <th></th>\n",
       "      <th></th>\n",
       "      <th></th>\n",
       "      <th></th>\n",
       "    </tr>\n",
       "  </thead>\n",
       "  <tbody>\n",
       "    <tr>\n",
       "      <th>2018-11</th>\n",
       "      <td>APU0000710211</td>\n",
       "      <td>2018</td>\n",
       "      <td>0.0</td>\n",
       "      <td>NaN</td>\n",
       "    </tr>\n",
       "    <tr>\n",
       "      <th>2018-11</th>\n",
       "      <td>APU0200710211</td>\n",
       "      <td>2018</td>\n",
       "      <td>0.0</td>\n",
       "      <td>NaN</td>\n",
       "    </tr>\n",
       "    <tr>\n",
       "      <th>2018-11</th>\n",
       "      <td>APU030072511</td>\n",
       "      <td>2018</td>\n",
       "      <td>0.0</td>\n",
       "      <td>NaN</td>\n",
       "    </tr>\n",
       "    <tr>\n",
       "      <th>2018-12</th>\n",
       "      <td>APU030072511</td>\n",
       "      <td>2018</td>\n",
       "      <td>0.0</td>\n",
       "      <td>NaN</td>\n",
       "    </tr>\n",
       "    <tr>\n",
       "      <th>2018-11</th>\n",
       "      <td>APU035072511</td>\n",
       "      <td>2018</td>\n",
       "      <td>0.0</td>\n",
       "      <td>NaN</td>\n",
       "    </tr>\n",
       "    <tr>\n",
       "      <th>2018-12</th>\n",
       "      <td>APU035072511</td>\n",
       "      <td>2018</td>\n",
       "      <td>0.0</td>\n",
       "      <td>NaN</td>\n",
       "    </tr>\n",
       "    <tr>\n",
       "      <th>2018-11</th>\n",
       "      <td>APUS30072511</td>\n",
       "      <td>2018</td>\n",
       "      <td>0.0</td>\n",
       "      <td>NaN</td>\n",
       "    </tr>\n",
       "    <tr>\n",
       "      <th>2018-12</th>\n",
       "      <td>APUS30072511</td>\n",
       "      <td>2018</td>\n",
       "      <td>0.0</td>\n",
       "      <td>NaN</td>\n",
       "    </tr>\n",
       "    <tr>\n",
       "      <th>1996-03</th>\n",
       "      <td>APUS49B72601</td>\n",
       "      <td>1996</td>\n",
       "      <td>0.0</td>\n",
       "      <td>NaN</td>\n",
       "    </tr>\n",
       "    <tr>\n",
       "      <th>1996-04</th>\n",
       "      <td>APUS49B72601</td>\n",
       "      <td>1996</td>\n",
       "      <td>0.0</td>\n",
       "      <td>NaN</td>\n",
       "    </tr>\n",
       "    <tr>\n",
       "      <th>1996-03</th>\n",
       "      <td>APUS49B72611</td>\n",
       "      <td>1996</td>\n",
       "      <td>0.0</td>\n",
       "      <td>NaN</td>\n",
       "    </tr>\n",
       "    <tr>\n",
       "      <th>1996-03</th>\n",
       "      <td>APUS49B72620</td>\n",
       "      <td>1996</td>\n",
       "      <td>0.0</td>\n",
       "      <td>NaN</td>\n",
       "    </tr>\n",
       "  </tbody>\n",
       "</table>\n",
       "</div>"
      ],
      "text/plain": [
       "             series_id  year  value footnote_codes\n",
       "period                                            \n",
       "2018-11  APU0000710211  2018    0.0            NaN\n",
       "2018-11  APU0200710211  2018    0.0            NaN\n",
       "2018-11   APU030072511  2018    0.0            NaN\n",
       "2018-12   APU030072511  2018    0.0            NaN\n",
       "2018-11   APU035072511  2018    0.0            NaN\n",
       "2018-12   APU035072511  2018    0.0            NaN\n",
       "2018-11   APUS30072511  2018    0.0            NaN\n",
       "2018-12   APUS30072511  2018    0.0            NaN\n",
       "1996-03   APUS49B72601  1996    0.0            NaN\n",
       "1996-04   APUS49B72601  1996    0.0            NaN\n",
       "1996-03   APUS49B72611  1996    0.0            NaN\n",
       "1996-03   APUS49B72620  1996    0.0            NaN"
      ]
     },
     "execution_count": 51,
     "metadata": {},
     "output_type": "execute_result"
    }
   ],
   "source": [
    "cpi_index[(cpi_index.value == 0.00)]"
   ]
  },
  {
   "cell_type": "code",
   "execution_count": 52,
   "id": "7d6c84cb",
   "metadata": {},
   "outputs": [],
   "source": [
    "federal_funds_rates = pd.read_csv(\"data/fed/federal_funds_effective_rate.csv\")"
   ]
  },
  {
   "cell_type": "code",
   "execution_count": 53,
   "id": "1c164a29",
   "metadata": {},
   "outputs": [
    {
     "data": {
      "text/html": [
       "<div>\n",
       "<style scoped>\n",
       "    .dataframe tbody tr th:only-of-type {\n",
       "        vertical-align: middle;\n",
       "    }\n",
       "\n",
       "    .dataframe tbody tr th {\n",
       "        vertical-align: top;\n",
       "    }\n",
       "\n",
       "    .dataframe thead th {\n",
       "        text-align: right;\n",
       "    }\n",
       "</style>\n",
       "<table border=\"1\" class=\"dataframe\">\n",
       "  <thead>\n",
       "    <tr style=\"text-align: right;\">\n",
       "      <th></th>\n",
       "      <th>time_period</th>\n",
       "      <th>federal_funds_effective_rate</th>\n",
       "    </tr>\n",
       "  </thead>\n",
       "  <tbody>\n",
       "    <tr>\n",
       "      <th>0</th>\n",
       "      <td>1954-07-01</td>\n",
       "      <td>1.13</td>\n",
       "    </tr>\n",
       "    <tr>\n",
       "      <th>1</th>\n",
       "      <td>1954-07-02</td>\n",
       "      <td>1.25</td>\n",
       "    </tr>\n",
       "    <tr>\n",
       "      <th>2</th>\n",
       "      <td>1954-07-03</td>\n",
       "      <td>1.25</td>\n",
       "    </tr>\n",
       "    <tr>\n",
       "      <th>3</th>\n",
       "      <td>1954-07-04</td>\n",
       "      <td>1.25</td>\n",
       "    </tr>\n",
       "    <tr>\n",
       "      <th>4</th>\n",
       "      <td>1954-07-05</td>\n",
       "      <td>0.88</td>\n",
       "    </tr>\n",
       "  </tbody>\n",
       "</table>\n",
       "</div>"
      ],
      "text/plain": [
       "  time_period  federal_funds_effective_rate\n",
       "0  1954-07-01                          1.13\n",
       "1  1954-07-02                          1.25\n",
       "2  1954-07-03                          1.25\n",
       "3  1954-07-04                          1.25\n",
       "4  1954-07-05                          0.88"
      ]
     },
     "execution_count": 53,
     "metadata": {},
     "output_type": "execute_result"
    }
   ],
   "source": [
    "federal_funds_rates.head()"
   ]
  },
  {
   "cell_type": "code",
   "execution_count": 54,
   "id": "fabeecdc",
   "metadata": {},
   "outputs": [
    {
     "data": {
      "text/plain": [
       "(24911, 2)"
      ]
     },
     "execution_count": 54,
     "metadata": {},
     "output_type": "execute_result"
    }
   ],
   "source": [
    "federal_funds_rates.shape"
   ]
  },
  {
   "cell_type": "code",
   "execution_count": 55,
   "id": "68276b07",
   "metadata": {},
   "outputs": [],
   "source": [
    "federal_funds_rates = federal_funds_rates.astype({'federal_funds_effective_rate': 'float64',\n",
    "                                                      'time_period': 'datetime64'}) \\\n",
    "                                                .rename(columns={'time_period': 'period'}) \\\n",
    "                                                .set_index('period')"
   ]
  },
  {
   "cell_type": "code",
   "execution_count": 56,
   "id": "49999fa6",
   "metadata": {},
   "outputs": [
    {
     "data": {
      "text/plain": [
       "dtype('<M8[ns]')"
      ]
     },
     "execution_count": 56,
     "metadata": {},
     "output_type": "execute_result"
    }
   ],
   "source": [
    "federal_funds_rates.index.dtype"
   ]
  },
  {
   "cell_type": "code",
   "execution_count": 57,
   "id": "773a7cf5",
   "metadata": {},
   "outputs": [],
   "source": [
    "federal_funds_rates = federal_funds_rates.resample('M').mean()"
   ]
  },
  {
   "cell_type": "code",
   "execution_count": 58,
   "id": "dbe11661",
   "metadata": {},
   "outputs": [
    {
     "data": {
      "text/plain": [
       "dtype('<M8[ns]')"
      ]
     },
     "execution_count": 58,
     "metadata": {},
     "output_type": "execute_result"
    }
   ],
   "source": [
    "federal_funds_rates.index.dtype"
   ]
  },
  {
   "cell_type": "code",
   "execution_count": 59,
   "id": "08780c01",
   "metadata": {},
   "outputs": [],
   "source": [
    "federal_funds_rates.index = federal_funds_rates.index.to_period('M')"
   ]
  },
  {
   "cell_type": "code",
   "execution_count": 60,
   "id": "b21eab1b",
   "metadata": {},
   "outputs": [
    {
     "data": {
      "text/plain": [
       "period[M]"
      ]
     },
     "execution_count": 60,
     "metadata": {},
     "output_type": "execute_result"
    }
   ],
   "source": [
    "federal_funds_rates.index.dtype"
   ]
  },
  {
   "cell_type": "code",
   "execution_count": 61,
   "id": "02e04b64",
   "metadata": {},
   "outputs": [
    {
     "data": {
      "text/html": [
       "<div>\n",
       "<style scoped>\n",
       "    .dataframe tbody tr th:only-of-type {\n",
       "        vertical-align: middle;\n",
       "    }\n",
       "\n",
       "    .dataframe tbody tr th {\n",
       "        vertical-align: top;\n",
       "    }\n",
       "\n",
       "    .dataframe thead th {\n",
       "        text-align: right;\n",
       "    }\n",
       "</style>\n",
       "<table border=\"1\" class=\"dataframe\">\n",
       "  <thead>\n",
       "    <tr style=\"text-align: right;\">\n",
       "      <th></th>\n",
       "      <th>federal_funds_effective_rate</th>\n",
       "    </tr>\n",
       "    <tr>\n",
       "      <th>period</th>\n",
       "      <th></th>\n",
       "    </tr>\n",
       "  </thead>\n",
       "  <tbody>\n",
       "    <tr>\n",
       "      <th>1954-07</th>\n",
       "      <td>0.799355</td>\n",
       "    </tr>\n",
       "    <tr>\n",
       "      <th>1954-08</th>\n",
       "      <td>1.220645</td>\n",
       "    </tr>\n",
       "    <tr>\n",
       "      <th>1954-09</th>\n",
       "      <td>1.066667</td>\n",
       "    </tr>\n",
       "    <tr>\n",
       "      <th>1954-10</th>\n",
       "      <td>0.848710</td>\n",
       "    </tr>\n",
       "    <tr>\n",
       "      <th>1954-11</th>\n",
       "      <td>0.833667</td>\n",
       "    </tr>\n",
       "  </tbody>\n",
       "</table>\n",
       "</div>"
      ],
      "text/plain": [
       "         federal_funds_effective_rate\n",
       "period                               \n",
       "1954-07                      0.799355\n",
       "1954-08                      1.220645\n",
       "1954-09                      1.066667\n",
       "1954-10                      0.848710\n",
       "1954-11                      0.833667"
      ]
     },
     "execution_count": 61,
     "metadata": {},
     "output_type": "execute_result"
    }
   ],
   "source": [
    "federal_funds_rates.head()"
   ]
  },
  {
   "cell_type": "code",
   "execution_count": 62,
   "id": "ff9c8bfd",
   "metadata": {},
   "outputs": [
    {
     "data": {
      "text/plain": [
       "(819, 1)"
      ]
     },
     "execution_count": 62,
     "metadata": {},
     "output_type": "execute_result"
    }
   ],
   "source": [
    "federal_funds_rates.shape"
   ]
  },
  {
   "cell_type": "code",
   "execution_count": 63,
   "id": "98316351",
   "metadata": {},
   "outputs": [
    {
     "data": {
      "text/plain": [
       "(190076, 4)"
      ]
     },
     "execution_count": 63,
     "metadata": {},
     "output_type": "execute_result"
    }
   ],
   "source": [
    "cpi_index.shape"
   ]
  },
  {
   "cell_type": "code",
   "execution_count": 64,
   "id": "fd09a883",
   "metadata": {},
   "outputs": [
    {
     "data": {
      "text/html": [
       "<div>\n",
       "<style scoped>\n",
       "    .dataframe tbody tr th:only-of-type {\n",
       "        vertical-align: middle;\n",
       "    }\n",
       "\n",
       "    .dataframe tbody tr th {\n",
       "        vertical-align: top;\n",
       "    }\n",
       "\n",
       "    .dataframe thead th {\n",
       "        text-align: right;\n",
       "    }\n",
       "</style>\n",
       "<table border=\"1\" class=\"dataframe\">\n",
       "  <thead>\n",
       "    <tr style=\"text-align: right;\">\n",
       "      <th></th>\n",
       "      <th>series_id</th>\n",
       "      <th>year</th>\n",
       "      <th>value</th>\n",
       "      <th>footnote_codes</th>\n",
       "    </tr>\n",
       "    <tr>\n",
       "      <th>period</th>\n",
       "      <th></th>\n",
       "      <th></th>\n",
       "      <th></th>\n",
       "      <th></th>\n",
       "    </tr>\n",
       "  </thead>\n",
       "  <tbody>\n",
       "    <tr>\n",
       "      <th>1995-01</th>\n",
       "      <td>APU0000701111</td>\n",
       "      <td>1995</td>\n",
       "      <td>0.238</td>\n",
       "      <td>NaN</td>\n",
       "    </tr>\n",
       "    <tr>\n",
       "      <th>1995-02</th>\n",
       "      <td>APU0000701111</td>\n",
       "      <td>1995</td>\n",
       "      <td>0.242</td>\n",
       "      <td>NaN</td>\n",
       "    </tr>\n",
       "    <tr>\n",
       "      <th>1995-03</th>\n",
       "      <td>APU0000701111</td>\n",
       "      <td>1995</td>\n",
       "      <td>0.242</td>\n",
       "      <td>NaN</td>\n",
       "    </tr>\n",
       "    <tr>\n",
       "      <th>1995-04</th>\n",
       "      <td>APU0000701111</td>\n",
       "      <td>1995</td>\n",
       "      <td>0.236</td>\n",
       "      <td>NaN</td>\n",
       "    </tr>\n",
       "    <tr>\n",
       "      <th>1995-05</th>\n",
       "      <td>APU0000701111</td>\n",
       "      <td>1995</td>\n",
       "      <td>0.244</td>\n",
       "      <td>NaN</td>\n",
       "    </tr>\n",
       "  </tbody>\n",
       "</table>\n",
       "</div>"
      ],
      "text/plain": [
       "             series_id  year  value footnote_codes\n",
       "period                                            \n",
       "1995-01  APU0000701111  1995  0.238            NaN\n",
       "1995-02  APU0000701111  1995  0.242            NaN\n",
       "1995-03  APU0000701111  1995  0.242            NaN\n",
       "1995-04  APU0000701111  1995  0.236            NaN\n",
       "1995-05  APU0000701111  1995  0.244            NaN"
      ]
     },
     "execution_count": 64,
     "metadata": {},
     "output_type": "execute_result"
    }
   ],
   "source": [
    "cpi_index.head()"
   ]
  },
  {
   "cell_type": "code",
   "execution_count": 65,
   "id": "2cac21df",
   "metadata": {},
   "outputs": [],
   "source": [
    "treasury_long_term_bond_rates = pd.read_csv(\"data/treasury/real-long-term-rates-2000-2021.csv\")"
   ]
  },
  {
   "cell_type": "code",
   "execution_count": 66,
   "id": "b7823e41",
   "metadata": {},
   "outputs": [
    {
     "data": {
      "text/html": [
       "<div>\n",
       "<style scoped>\n",
       "    .dataframe tbody tr th:only-of-type {\n",
       "        vertical-align: middle;\n",
       "    }\n",
       "\n",
       "    .dataframe tbody tr th {\n",
       "        vertical-align: top;\n",
       "    }\n",
       "\n",
       "    .dataframe thead th {\n",
       "        text-align: right;\n",
       "    }\n",
       "</style>\n",
       "<table border=\"1\" class=\"dataframe\">\n",
       "  <thead>\n",
       "    <tr style=\"text-align: right;\">\n",
       "      <th></th>\n",
       "      <th>date</th>\n",
       "      <th>long_term_real_average</th>\n",
       "    </tr>\n",
       "  </thead>\n",
       "  <tbody>\n",
       "    <tr>\n",
       "      <th>0</th>\n",
       "      <td>12/31/21</td>\n",
       "      <td>-0.52</td>\n",
       "    </tr>\n",
       "    <tr>\n",
       "      <th>1</th>\n",
       "      <td>12/30/21</td>\n",
       "      <td>-0.51</td>\n",
       "    </tr>\n",
       "    <tr>\n",
       "      <th>2</th>\n",
       "      <td>12/29/21</td>\n",
       "      <td>-0.45</td>\n",
       "    </tr>\n",
       "    <tr>\n",
       "      <th>3</th>\n",
       "      <td>12/28/21</td>\n",
       "      <td>-0.48</td>\n",
       "    </tr>\n",
       "    <tr>\n",
       "      <th>4</th>\n",
       "      <td>12/27/21</td>\n",
       "      <td>-0.50</td>\n",
       "    </tr>\n",
       "  </tbody>\n",
       "</table>\n",
       "</div>"
      ],
      "text/plain": [
       "       date  long_term_real_average\n",
       "0  12/31/21                   -0.52\n",
       "1  12/30/21                   -0.51\n",
       "2  12/29/21                   -0.45\n",
       "3  12/28/21                   -0.48\n",
       "4  12/27/21                   -0.50"
      ]
     },
     "execution_count": 66,
     "metadata": {},
     "output_type": "execute_result"
    }
   ],
   "source": [
    "treasury_long_term_bond_rates.head()"
   ]
  },
  {
   "cell_type": "code",
   "execution_count": 67,
   "id": "5ef1e5a6",
   "metadata": {},
   "outputs": [],
   "source": [
    "treasury_long_term_bond_rates = treasury_long_term_bond_rates.astype({'long_term_real_average': 'float64',\n",
    "                                                                          'date': 'datetime64'}) \\\n",
    "                                                                    .rename(columns={'date': 'period'}) \\\n",
    "                                                                    .set_index('period')"
   ]
  },
  {
   "cell_type": "code",
   "execution_count": 68,
   "id": "424d8c18",
   "metadata": {},
   "outputs": [
    {
     "data": {
      "text/plain": [
       "long_term_real_average    float64\n",
       "dtype: object"
      ]
     },
     "execution_count": 68,
     "metadata": {},
     "output_type": "execute_result"
    }
   ],
   "source": [
    "treasury_long_term_bond_rates.dtypes"
   ]
  },
  {
   "cell_type": "code",
   "execution_count": 69,
   "id": "c894131b",
   "metadata": {},
   "outputs": [],
   "source": [
    "treasury_long_term_bond_rate_monthly_average = treasury_long_term_bond_rates.rolling(window=30)['long_term_real_average'].mean()"
   ]
  },
  {
   "cell_type": "code",
   "execution_count": 70,
   "id": "409e6426",
   "metadata": {},
   "outputs": [
    {
     "data": {
      "text/plain": [
       "(5504, 1)"
      ]
     },
     "execution_count": 70,
     "metadata": {},
     "output_type": "execute_result"
    }
   ],
   "source": [
    "treasury_long_term_bond_rates.shape"
   ]
  },
  {
   "cell_type": "code",
   "execution_count": 71,
   "id": "44310329",
   "metadata": {},
   "outputs": [],
   "source": [
    "treasury_long_term_bond_rate_monthly_average.index = treasury_long_term_bond_rate_monthly_average.index.to_period('M')"
   ]
  },
  {
   "cell_type": "code",
   "execution_count": 113,
   "id": "544b3f74",
   "metadata": {},
   "outputs": [
    {
     "data": {
      "text/plain": [
       "long_term_real_average    float64\n",
       "dtype: object"
      ]
     },
     "execution_count": 113,
     "metadata": {},
     "output_type": "execute_result"
    }
   ],
   "source": [
    "treasury_long_term_bond_rates.dtypes"
   ]
  },
  {
   "cell_type": "code",
   "execution_count": 73,
   "id": "647e04db",
   "metadata": {},
   "outputs": [
    {
     "data": {
      "text/html": [
       "<div>\n",
       "<style scoped>\n",
       "    .dataframe tbody tr th:only-of-type {\n",
       "        vertical-align: middle;\n",
       "    }\n",
       "\n",
       "    .dataframe tbody tr th {\n",
       "        vertical-align: top;\n",
       "    }\n",
       "\n",
       "    .dataframe thead th {\n",
       "        text-align: right;\n",
       "    }\n",
       "</style>\n",
       "<table border=\"1\" class=\"dataframe\">\n",
       "  <thead>\n",
       "    <tr style=\"text-align: right;\">\n",
       "      <th></th>\n",
       "      <th>long_term_real_average</th>\n",
       "    </tr>\n",
       "    <tr>\n",
       "      <th>period</th>\n",
       "      <th></th>\n",
       "    </tr>\n",
       "  </thead>\n",
       "  <tbody>\n",
       "    <tr>\n",
       "      <th>2021-12-31</th>\n",
       "      <td>-0.52</td>\n",
       "    </tr>\n",
       "    <tr>\n",
       "      <th>2021-12-30</th>\n",
       "      <td>-0.51</td>\n",
       "    </tr>\n",
       "    <tr>\n",
       "      <th>2021-12-29</th>\n",
       "      <td>-0.45</td>\n",
       "    </tr>\n",
       "    <tr>\n",
       "      <th>2021-12-28</th>\n",
       "      <td>-0.48</td>\n",
       "    </tr>\n",
       "    <tr>\n",
       "      <th>2021-12-27</th>\n",
       "      <td>-0.50</td>\n",
       "    </tr>\n",
       "  </tbody>\n",
       "</table>\n",
       "</div>"
      ],
      "text/plain": [
       "            long_term_real_average\n",
       "period                            \n",
       "2021-12-31                   -0.52\n",
       "2021-12-30                   -0.51\n",
       "2021-12-29                   -0.45\n",
       "2021-12-28                   -0.48\n",
       "2021-12-27                   -0.50"
      ]
     },
     "execution_count": 73,
     "metadata": {},
     "output_type": "execute_result"
    }
   ],
   "source": [
    "treasury_long_term_bond_rates.head()"
   ]
  },
  {
   "cell_type": "code",
   "execution_count": 74,
   "id": "74bc1ce0",
   "metadata": {},
   "outputs": [],
   "source": [
    "s_and_p_500_stock_prices = pd.read_csv(\"data/wsj/s_and_p_500_historical_prices.csv\")"
   ]
  },
  {
   "cell_type": "code",
   "execution_count": 75,
   "id": "99fc739d",
   "metadata": {},
   "outputs": [],
   "source": [
    "s_and_p_500_stock_prices = s_and_p_500_stock_prices.astype({'Date': 'datetime64'}) \\\n",
    "                                                                 .rename(columns={'Date': 'period'}) \\\n",
    "                                                                 .set_index('period')"
   ]
  },
  {
   "cell_type": "code",
   "execution_count": 76,
   "id": "4dbb7ea8",
   "metadata": {},
   "outputs": [
    {
     "data": {
      "text/plain": [
       "(11274, 4)"
      ]
     },
     "execution_count": 76,
     "metadata": {},
     "output_type": "execute_result"
    }
   ],
   "source": [
    "s_and_p_500_stock_prices.shape"
   ]
  },
  {
   "cell_type": "code",
   "execution_count": 77,
   "id": "38b42e81",
   "metadata": {},
   "outputs": [],
   "source": [
    "s_and_p_500_stock_prices = s_and_p_500_stock_prices.resample('M').mean()"
   ]
  },
  {
   "cell_type": "code",
   "execution_count": 78,
   "id": "dbed790d",
   "metadata": {},
   "outputs": [
    {
     "data": {
      "text/plain": [
       "(537, 4)"
      ]
     },
     "execution_count": 78,
     "metadata": {},
     "output_type": "execute_result"
    }
   ],
   "source": [
    "s_and_p_500_stock_prices.shape"
   ]
  },
  {
   "cell_type": "code",
   "execution_count": 79,
   "id": "c5f25a8a",
   "metadata": {},
   "outputs": [
    {
     "data": {
      "text/plain": [
       " Open     float64\n",
       " High     float64\n",
       " Low      float64\n",
       " Close    float64\n",
       "dtype: object"
      ]
     },
     "execution_count": 79,
     "metadata": {},
     "output_type": "execute_result"
    }
   ],
   "source": [
    "s_and_p_500_stock_prices.dtypes"
   ]
  },
  {
   "cell_type": "code",
   "execution_count": 80,
   "id": "72bb42b7",
   "metadata": {},
   "outputs": [],
   "source": [
    "bank_prime_rates = pd.read_csv(\"data/fed/bank_prime_rate.csv\")"
   ]
  },
  {
   "cell_type": "code",
   "execution_count": 81,
   "id": "dc88f760",
   "metadata": {},
   "outputs": [
    {
     "data": {
      "text/html": [
       "<div>\n",
       "<style scoped>\n",
       "    .dataframe tbody tr th:only-of-type {\n",
       "        vertical-align: middle;\n",
       "    }\n",
       "\n",
       "    .dataframe tbody tr th {\n",
       "        vertical-align: top;\n",
       "    }\n",
       "\n",
       "    .dataframe thead th {\n",
       "        text-align: right;\n",
       "    }\n",
       "</style>\n",
       "<table border=\"1\" class=\"dataframe\">\n",
       "  <thead>\n",
       "    <tr style=\"text-align: right;\">\n",
       "      <th></th>\n",
       "      <th>time_period</th>\n",
       "      <th>bank_prime_rate</th>\n",
       "    </tr>\n",
       "  </thead>\n",
       "  <tbody>\n",
       "    <tr>\n",
       "      <th>0</th>\n",
       "      <td>1955-08-04</td>\n",
       "      <td>3.25</td>\n",
       "    </tr>\n",
       "    <tr>\n",
       "      <th>1</th>\n",
       "      <td>1955-08-05</td>\n",
       "      <td>3.25</td>\n",
       "    </tr>\n",
       "    <tr>\n",
       "      <th>2</th>\n",
       "      <td>1955-08-06</td>\n",
       "      <td>3.25</td>\n",
       "    </tr>\n",
       "    <tr>\n",
       "      <th>3</th>\n",
       "      <td>1955-08-07</td>\n",
       "      <td>3.25</td>\n",
       "    </tr>\n",
       "    <tr>\n",
       "      <th>4</th>\n",
       "      <td>1955-08-08</td>\n",
       "      <td>3.25</td>\n",
       "    </tr>\n",
       "  </tbody>\n",
       "</table>\n",
       "</div>"
      ],
      "text/plain": [
       "  time_period  bank_prime_rate\n",
       "0  1955-08-04             3.25\n",
       "1  1955-08-05             3.25\n",
       "2  1955-08-06             3.25\n",
       "3  1955-08-07             3.25\n",
       "4  1955-08-08             3.25"
      ]
     },
     "execution_count": 81,
     "metadata": {},
     "output_type": "execute_result"
    }
   ],
   "source": [
    "bank_prime_rates.head()"
   ]
  },
  {
   "cell_type": "code",
   "execution_count": 82,
   "id": "7cb69803",
   "metadata": {},
   "outputs": [
    {
     "data": {
      "text/html": [
       "<div>\n",
       "<style scoped>\n",
       "    .dataframe tbody tr th:only-of-type {\n",
       "        vertical-align: middle;\n",
       "    }\n",
       "\n",
       "    .dataframe tbody tr th {\n",
       "        vertical-align: top;\n",
       "    }\n",
       "\n",
       "    .dataframe thead th {\n",
       "        text-align: right;\n",
       "    }\n",
       "</style>\n",
       "<table border=\"1\" class=\"dataframe\">\n",
       "  <thead>\n",
       "    <tr style=\"text-align: right;\">\n",
       "      <th></th>\n",
       "      <th>Open</th>\n",
       "      <th>High</th>\n",
       "      <th>Low</th>\n",
       "      <th>Close</th>\n",
       "    </tr>\n",
       "    <tr>\n",
       "      <th>period</th>\n",
       "      <th></th>\n",
       "      <th></th>\n",
       "      <th></th>\n",
       "      <th></th>\n",
       "    </tr>\n",
       "  </thead>\n",
       "  <tbody>\n",
       "    <tr>\n",
       "      <th>1978-01-31</th>\n",
       "      <td>90.254286</td>\n",
       "      <td>91.080000</td>\n",
       "      <td>89.747619</td>\n",
       "      <td>90.254286</td>\n",
       "    </tr>\n",
       "    <tr>\n",
       "      <th>1978-02-28</th>\n",
       "      <td>88.922632</td>\n",
       "      <td>89.453684</td>\n",
       "      <td>88.481053</td>\n",
       "      <td>88.922632</td>\n",
       "    </tr>\n",
       "    <tr>\n",
       "      <th>1978-03-31</th>\n",
       "      <td>88.819545</td>\n",
       "      <td>89.307727</td>\n",
       "      <td>88.189091</td>\n",
       "      <td>88.819545</td>\n",
       "    </tr>\n",
       "    <tr>\n",
       "      <th>1978-04-30</th>\n",
       "      <td>92.710500</td>\n",
       "      <td>93.397500</td>\n",
       "      <td>91.872500</td>\n",
       "      <td>92.710500</td>\n",
       "    </tr>\n",
       "    <tr>\n",
       "      <th>1978-05-31</th>\n",
       "      <td>97.412273</td>\n",
       "      <td>98.222273</td>\n",
       "      <td>96.579545</td>\n",
       "      <td>97.412273</td>\n",
       "    </tr>\n",
       "  </tbody>\n",
       "</table>\n",
       "</div>"
      ],
      "text/plain": [
       "                 Open       High        Low      Close\n",
       "period                                                \n",
       "1978-01-31  90.254286  91.080000  89.747619  90.254286\n",
       "1978-02-28  88.922632  89.453684  88.481053  88.922632\n",
       "1978-03-31  88.819545  89.307727  88.189091  88.819545\n",
       "1978-04-30  92.710500  93.397500  91.872500  92.710500\n",
       "1978-05-31  97.412273  98.222273  96.579545  97.412273"
      ]
     },
     "execution_count": 82,
     "metadata": {},
     "output_type": "execute_result"
    }
   ],
   "source": [
    "s_and_p_500_stock_prices.head()"
   ]
  },
  {
   "cell_type": "code",
   "execution_count": 83,
   "id": "b153f8ec",
   "metadata": {},
   "outputs": [
    {
     "data": {
      "text/html": [
       "<div>\n",
       "<style scoped>\n",
       "    .dataframe tbody tr th:only-of-type {\n",
       "        vertical-align: middle;\n",
       "    }\n",
       "\n",
       "    .dataframe tbody tr th {\n",
       "        vertical-align: top;\n",
       "    }\n",
       "\n",
       "    .dataframe thead th {\n",
       "        text-align: right;\n",
       "    }\n",
       "</style>\n",
       "<table border=\"1\" class=\"dataframe\">\n",
       "  <thead>\n",
       "    <tr style=\"text-align: right;\">\n",
       "      <th></th>\n",
       "      <th>series_id</th>\n",
       "      <th>year</th>\n",
       "      <th>value</th>\n",
       "      <th>footnote_codes</th>\n",
       "    </tr>\n",
       "    <tr>\n",
       "      <th>period</th>\n",
       "      <th></th>\n",
       "      <th></th>\n",
       "      <th></th>\n",
       "      <th></th>\n",
       "    </tr>\n",
       "  </thead>\n",
       "  <tbody>\n",
       "    <tr>\n",
       "      <th>1995-01</th>\n",
       "      <td>APU0000701111</td>\n",
       "      <td>1995</td>\n",
       "      <td>0.238</td>\n",
       "      <td>NaN</td>\n",
       "    </tr>\n",
       "    <tr>\n",
       "      <th>1995-02</th>\n",
       "      <td>APU0000701111</td>\n",
       "      <td>1995</td>\n",
       "      <td>0.242</td>\n",
       "      <td>NaN</td>\n",
       "    </tr>\n",
       "    <tr>\n",
       "      <th>1995-03</th>\n",
       "      <td>APU0000701111</td>\n",
       "      <td>1995</td>\n",
       "      <td>0.242</td>\n",
       "      <td>NaN</td>\n",
       "    </tr>\n",
       "    <tr>\n",
       "      <th>1995-04</th>\n",
       "      <td>APU0000701111</td>\n",
       "      <td>1995</td>\n",
       "      <td>0.236</td>\n",
       "      <td>NaN</td>\n",
       "    </tr>\n",
       "    <tr>\n",
       "      <th>1995-05</th>\n",
       "      <td>APU0000701111</td>\n",
       "      <td>1995</td>\n",
       "      <td>0.244</td>\n",
       "      <td>NaN</td>\n",
       "    </tr>\n",
       "  </tbody>\n",
       "</table>\n",
       "</div>"
      ],
      "text/plain": [
       "             series_id  year  value footnote_codes\n",
       "period                                            \n",
       "1995-01  APU0000701111  1995  0.238            NaN\n",
       "1995-02  APU0000701111  1995  0.242            NaN\n",
       "1995-03  APU0000701111  1995  0.242            NaN\n",
       "1995-04  APU0000701111  1995  0.236            NaN\n",
       "1995-05  APU0000701111  1995  0.244            NaN"
      ]
     },
     "execution_count": 83,
     "metadata": {},
     "output_type": "execute_result"
    }
   ],
   "source": [
    "cpi_index.head()"
   ]
  },
  {
   "cell_type": "code",
   "execution_count": 84,
   "id": "2008a7c5",
   "metadata": {},
   "outputs": [
    {
     "data": {
      "text/html": [
       "<div>\n",
       "<style scoped>\n",
       "    .dataframe tbody tr th:only-of-type {\n",
       "        vertical-align: middle;\n",
       "    }\n",
       "\n",
       "    .dataframe tbody tr th {\n",
       "        vertical-align: top;\n",
       "    }\n",
       "\n",
       "    .dataframe thead th {\n",
       "        text-align: right;\n",
       "    }\n",
       "</style>\n",
       "<table border=\"1\" class=\"dataframe\">\n",
       "  <thead>\n",
       "    <tr style=\"text-align: right;\">\n",
       "      <th></th>\n",
       "      <th>long_term_real_average</th>\n",
       "    </tr>\n",
       "    <tr>\n",
       "      <th>period</th>\n",
       "      <th></th>\n",
       "    </tr>\n",
       "  </thead>\n",
       "  <tbody>\n",
       "    <tr>\n",
       "      <th>2021-12-31</th>\n",
       "      <td>-0.52</td>\n",
       "    </tr>\n",
       "    <tr>\n",
       "      <th>2021-12-30</th>\n",
       "      <td>-0.51</td>\n",
       "    </tr>\n",
       "    <tr>\n",
       "      <th>2021-12-29</th>\n",
       "      <td>-0.45</td>\n",
       "    </tr>\n",
       "    <tr>\n",
       "      <th>2021-12-28</th>\n",
       "      <td>-0.48</td>\n",
       "    </tr>\n",
       "    <tr>\n",
       "      <th>2021-12-27</th>\n",
       "      <td>-0.50</td>\n",
       "    </tr>\n",
       "  </tbody>\n",
       "</table>\n",
       "</div>"
      ],
      "text/plain": [
       "            long_term_real_average\n",
       "period                            \n",
       "2021-12-31                   -0.52\n",
       "2021-12-30                   -0.51\n",
       "2021-12-29                   -0.45\n",
       "2021-12-28                   -0.48\n",
       "2021-12-27                   -0.50"
      ]
     },
     "execution_count": 84,
     "metadata": {},
     "output_type": "execute_result"
    }
   ],
   "source": [
    "treasury_long_term_bond_rates.head()"
   ]
  },
  {
   "cell_type": "code",
   "execution_count": 85,
   "id": "17939b73",
   "metadata": {},
   "outputs": [
    {
     "data": {
      "text/html": [
       "<div>\n",
       "<style scoped>\n",
       "    .dataframe tbody tr th:only-of-type {\n",
       "        vertical-align: middle;\n",
       "    }\n",
       "\n",
       "    .dataframe tbody tr th {\n",
       "        vertical-align: top;\n",
       "    }\n",
       "\n",
       "    .dataframe thead th {\n",
       "        text-align: right;\n",
       "    }\n",
       "</style>\n",
       "<table border=\"1\" class=\"dataframe\">\n",
       "  <thead>\n",
       "    <tr style=\"text-align: right;\">\n",
       "      <th></th>\n",
       "      <th>federal_funds_effective_rate</th>\n",
       "    </tr>\n",
       "    <tr>\n",
       "      <th>period</th>\n",
       "      <th></th>\n",
       "    </tr>\n",
       "  </thead>\n",
       "  <tbody>\n",
       "    <tr>\n",
       "      <th>1954-07</th>\n",
       "      <td>0.799355</td>\n",
       "    </tr>\n",
       "    <tr>\n",
       "      <th>1954-08</th>\n",
       "      <td>1.220645</td>\n",
       "    </tr>\n",
       "    <tr>\n",
       "      <th>1954-09</th>\n",
       "      <td>1.066667</td>\n",
       "    </tr>\n",
       "    <tr>\n",
       "      <th>1954-10</th>\n",
       "      <td>0.848710</td>\n",
       "    </tr>\n",
       "    <tr>\n",
       "      <th>1954-11</th>\n",
       "      <td>0.833667</td>\n",
       "    </tr>\n",
       "  </tbody>\n",
       "</table>\n",
       "</div>"
      ],
      "text/plain": [
       "         federal_funds_effective_rate\n",
       "period                               \n",
       "1954-07                      0.799355\n",
       "1954-08                      1.220645\n",
       "1954-09                      1.066667\n",
       "1954-10                      0.848710\n",
       "1954-11                      0.833667"
      ]
     },
     "execution_count": 85,
     "metadata": {},
     "output_type": "execute_result"
    }
   ],
   "source": [
    "federal_funds_rates.head()"
   ]
  },
  {
   "cell_type": "code",
   "execution_count": 209,
   "id": "6f164762",
   "metadata": {},
   "outputs": [
    {
     "data": {
      "text/html": [
       "<div>\n",
       "<style scoped>\n",
       "    .dataframe tbody tr th:only-of-type {\n",
       "        vertical-align: middle;\n",
       "    }\n",
       "\n",
       "    .dataframe tbody tr th {\n",
       "        vertical-align: top;\n",
       "    }\n",
       "\n",
       "    .dataframe thead th {\n",
       "        text-align: right;\n",
       "    }\n",
       "</style>\n",
       "<table border=\"1\" class=\"dataframe\">\n",
       "  <thead>\n",
       "    <tr style=\"text-align: right;\">\n",
       "      <th></th>\n",
       "      <th>federal_funds_effective_rate</th>\n",
       "    </tr>\n",
       "    <tr>\n",
       "      <th>period</th>\n",
       "      <th></th>\n",
       "    </tr>\n",
       "  </thead>\n",
       "  <tbody>\n",
       "    <tr>\n",
       "      <th>1954-07</th>\n",
       "      <td>0.799355</td>\n",
       "    </tr>\n",
       "    <tr>\n",
       "      <th>1954-08</th>\n",
       "      <td>1.220645</td>\n",
       "    </tr>\n",
       "    <tr>\n",
       "      <th>1954-09</th>\n",
       "      <td>1.066667</td>\n",
       "    </tr>\n",
       "    <tr>\n",
       "      <th>1954-10</th>\n",
       "      <td>0.848710</td>\n",
       "    </tr>\n",
       "    <tr>\n",
       "      <th>1954-11</th>\n",
       "      <td>0.833667</td>\n",
       "    </tr>\n",
       "  </tbody>\n",
       "</table>\n",
       "</div>"
      ],
      "text/plain": [
       "         federal_funds_effective_rate\n",
       "period                               \n",
       "1954-07                      0.799355\n",
       "1954-08                      1.220645\n",
       "1954-09                      1.066667\n",
       "1954-10                      0.848710\n",
       "1954-11                      0.833667"
      ]
     },
     "execution_count": 209,
     "metadata": {},
     "output_type": "execute_result"
    }
   ],
   "source": [
    "federal_funds_rates.head()"
   ]
  },
  {
   "cell_type": "code",
   "execution_count": null,
   "id": "ae7117af",
   "metadata": {},
   "outputs": [],
   "source": [
    "cpi_index = cpi_index.groupby(\"period\").mean()"
   ]
  },
  {
   "cell_type": "code",
   "execution_count": 170,
   "id": "64d0a412",
   "metadata": {},
   "outputs": [],
   "source": [
    "federal_funds_rates_array = federal_funds_rates.loc[federal_funds_rates.index >= '2000'].index.to_numpy()"
   ]
  },
  {
   "cell_type": "code",
   "execution_count": 173,
   "id": "1e125ad4",
   "metadata": {},
   "outputs": [],
   "source": [
    "cpi_index_array = cpi_index.loc[cpi_index.index >= '2000'].index.to_numpy()"
   ]
  },
  {
   "cell_type": "code",
   "execution_count": null,
   "id": "fb204581",
   "metadata": {},
   "outputs": [],
   "source": [
    "series = zip(cpi_index_array, federal_funds_rates_array)"
   ]
  },
  {
   "cell_type": "code",
   "execution_count": 210,
   "id": "3b4c1348",
   "metadata": {},
   "outputs": [],
   "source": [
    "federal_funds_rates_after_2000 = federal_funds_rates.loc[federal_funds_rates.index >= '2000']"
   ]
  },
  {
   "cell_type": "code",
   "execution_count": 211,
   "id": "d306faa3",
   "metadata": {},
   "outputs": [],
   "source": [
    "cpi_index_after_2000 = cpi_index.loc[cpi_index.index >= '2000']"
   ]
  },
  {
   "cell_type": "code",
   "execution_count": 218,
   "id": "1a550711",
   "metadata": {},
   "outputs": [],
   "source": [
    "federal_funds_rates_array_after_2000 = federal_funds_rates_after_2000[\"federal_funds_effective_rate\"].to_numpy()"
   ]
  },
  {
   "cell_type": "code",
   "execution_count": 222,
   "id": "7332f07a",
   "metadata": {},
   "outputs": [],
   "source": [
    "cpi_index_array_after_2000 = cpi_index_after_2000[\"value\"].to_numpy()"
   ]
  },
  {
   "cell_type": "code",
   "execution_count": 223,
   "id": "1b5c4348",
   "metadata": {},
   "outputs": [
    {
     "data": {
      "text/plain": [
       "272"
      ]
     },
     "execution_count": 223,
     "metadata": {},
     "output_type": "execute_result"
    }
   ],
   "source": [
    "len(cpi_index_array_after_2000)"
   ]
  },
  {
   "cell_type": "code",
   "execution_count": 224,
   "id": "35163dbd",
   "metadata": {},
   "outputs": [],
   "source": [
    "series = zip(cpi_index_array_after_2000, federal_funds_rates_array_after_2000)"
   ]
  },
  {
   "cell_type": "code",
   "execution_count": 226,
   "id": "53c9ea6f",
   "metadata": {},
   "outputs": [
    {
     "data": {
      "text/plain": [
       "array([ 9.52256979,  9.58644118,  9.63173607,  9.71011148,  9.96946477,\n",
       "       10.31310116, 10.57736469, 10.48265455, 10.94900493, 11.36254257,\n",
       "       11.61160745, 12.07371986, 13.23714165, 13.38721477, 13.13539226,\n",
       "       12.92385835, 12.75986449, 12.29582624, 11.81923729, 11.4629661 ,\n",
       "       11.19101356, 10.74599324, 10.90429032, 11.07567007, 10.9928277 ,\n",
       "       10.55014622, 10.53710235, 10.74822635, 10.82535204, 10.82369165,\n",
       "       10.84518228, 10.84081122, 10.90891823, 11.06527474, 11.37029503,\n",
       "       11.4358431 , 11.7274244 , 12.01072432, 13.02301541, 12.82549742,\n",
       "       12.75430314, 12.93742957, 12.88111938, 12.81959619, 12.88040728,\n",
       "       12.77716118, 12.88154974, 13.03076923, 13.2375    , 13.12379758,\n",
       "       12.84624525, 12.88053356, 13.25533042, 13.68098084, 13.83050877,\n",
       "       13.80781739, 13.48255095, 13.88673545, 14.68927208, 14.76189735,\n",
       "       14.63040845, 14.15604878, 14.10347644, 14.71133625, 14.84603186,\n",
       "       14.60176532, 14.93841739, 15.15142683, 16.41889043, 18.31164386,\n",
       "       18.69801237, 18.05587478, 18.26872396, 16.86671601, 16.27160413,\n",
       "       16.04921244, 16.01443621, 15.48779557, 15.60543101, 15.69138501,\n",
       "       15.70914796, 15.094821  , 15.60512137, 15.96550429, 15.84575643,\n",
       "       15.70572881, 16.0335399 , 16.13875468, 16.32935788, 16.40767627,\n",
       "       16.28937372, 15.76701528, 15.64857895, 15.72760884, 16.03857432,\n",
       "       16.13409306, 16.07300336, 16.25742905, 16.7778104 , 17.51536887,\n",
       "       18.42894359, 19.16518687, 20.17298316, 19.36077365, 17.88371597,\n",
       "       17.61504422, 16.95715646, 16.77005442, 16.44028668, 15.97742282,\n",
       "       15.45179357, 15.04849069, 14.65588356, 14.64939731, 14.74574493,\n",
       "       14.6939747 , 14.45464189, 14.81193299, 15.22612842, 15.10048129,\n",
       "       15.23909817, 15.10908264, 15.06276539, 14.94985667, 14.77151575,\n",
       "       14.67886416, 14.87364321, 14.79390701, 14.48042553, 14.72229236,\n",
       "       14.5652907 , 14.72227934, 14.77271074, 14.95450744, 14.98093035,\n",
       "       15.09283967, 15.26416388, 15.07158756, 15.12931536, 15.1745938 ,\n",
       "       15.03171289, 14.9085    , 14.92085333, 14.79046755, 14.78893012,\n",
       "       14.48981032, 14.44221761, 14.34950415, 14.16281469, 14.1986611 ,\n",
       "       14.27045439, 14.49694693, 14.49981198, 14.40834628, 14.73614118,\n",
       "       14.80520638, 14.77875503, 14.85347746, 14.80651926, 15.05077685,\n",
       "       15.33075379, 15.45699831,  3.00772653,  3.0065122 ,  2.9877137 ,\n",
       "        3.01179867,  2.92225887,  2.93613125,  2.946     ,  3.00109148,\n",
       "        3.06177339,  3.14332008,  3.14775258,  3.1544    ,  3.13268737,\n",
       "        3.13461491,  3.11304772,  3.08315625,  2.99124896,  2.91299175,\n",
       "        2.75847205,  2.78764536,  2.83439175,  2.81291786,  2.89081743,\n",
       "        2.90945417,  2.92479339,  2.88161826,  2.80067288,  2.75268607,\n",
       "        2.70554777,  2.63829684,  2.57890063,  2.51501895,  2.55615336,\n",
       "        2.61333333,  2.65218969,  2.68298148,  2.62784124,  2.59940994,\n",
       "        2.62543006,  2.64192569,  2.59384188,  2.60042766,  2.63974788,\n",
       "        2.62818008,  2.64376907,  2.68927637,  2.70603158,  2.69224948,\n",
       "        2.67440956,  2.71250518,  2.79319247,  2.77213191,  2.82044989,\n",
       "        2.80404478,  2.7168566 ,  2.73197543,  2.73321698,  2.74438294,\n",
       "        2.78767216,  2.79502372,  2.78036709,  2.77826134,  2.78046279,\n",
       "        2.79466543,  2.66690993,  2.60744567,  2.56621179,  2.58471193,\n",
       "        2.66617615,  2.77049634,  2.79194981,  2.72476923,  2.73386339,\n",
       "        2.68470588,  2.68724176,  2.71058672,  2.72066914,  2.70172828,\n",
       "        2.69952407,  2.66625974,  2.6331501 ,  2.51128913,  2.61571926,\n",
       "        2.72495409,  2.654566  ,  2.63681854,  2.62135529,  2.61387698,\n",
       "        2.59396945,  2.67628773,  2.74537903,  2.81931791,  2.94595565,\n",
       "        3.01184646,  3.087072  ,  3.20415851,  3.26496032,  3.27717485,\n",
       "        3.30478627,  3.40155146,  3.46282583,  3.40449416,  3.4176835 ,\n",
       "        3.50314369,  3.84493834,  3.8843071 ,  4.06087016,  4.26931969,\n",
       "        4.13082192,  3.90057198])"
      ]
     },
     "execution_count": 226,
     "metadata": {},
     "output_type": "execute_result"
    }
   ],
   "source": [
    "cpi_index_array_after_2000"
   ]
  },
  {
   "cell_type": "code",
   "execution_count": 227,
   "id": "67580bac",
   "metadata": {},
   "outputs": [
    {
     "data": {
      "text/plain": [
       "array([5.4483871 , 5.73482759, 5.85354839, 6.01966667, 6.26806452,\n",
       "       6.52833333, 6.54451613, 6.49677419, 6.517     , 6.50935484,\n",
       "       6.51433333, 6.40225806, 5.97580645, 5.49428571, 5.31096774,\n",
       "       4.802     , 4.21225806, 3.96966667, 3.76903226, 3.65258065,\n",
       "       3.069     , 2.48516129, 2.087     , 1.81774194, 1.72967742,\n",
       "       1.73964286, 1.73      , 1.753     , 1.75129032, 1.75033333,\n",
       "       1.72903226, 1.74322581, 1.75066667, 1.75483871, 1.336     ,\n",
       "       1.2383871 , 1.23516129, 1.26214286, 1.25290323, 1.258     ,\n",
       "       1.25903226, 1.22266667, 1.01129032, 1.02903226, 1.01      ,\n",
       "       1.01      , 0.996     , 0.98419355, 0.99709677, 1.00724138,\n",
       "       1.0016129 , 1.004     , 1.00451613, 1.02566667, 1.26354839,\n",
       "       1.42935484, 1.605     , 1.76096774, 1.932     , 2.15612903,\n",
       "       2.27935484, 2.50178571, 2.62903226, 2.785     , 3.00258065,\n",
       "       3.03566667, 3.26258065, 3.49967742, 3.623     , 3.77935484,\n",
       "       3.999     , 4.15709677, 4.28516129, 4.49142857, 4.58935484,\n",
       "       4.79033333, 4.94032258, 4.991     , 5.23516129, 5.24645161,\n",
       "       5.25466667, 5.24516129, 5.24566667, 5.23806452, 5.2483871 ,\n",
       "       5.25892857, 5.25677419, 5.24966667, 5.25354839, 5.254     ,\n",
       "       5.2583871 , 5.02225806, 4.938     , 4.75548387, 4.48666667,\n",
       "       4.24451613, 3.94032258, 2.98068966, 2.61032258, 2.27833333,\n",
       "       1.9783871 , 2.001     , 2.00967742, 1.99645161, 1.81166667,\n",
       "       0.96935484, 0.38766667, 0.15516129, 0.15419355, 0.22214286,\n",
       "       0.18064516, 0.15033333, 0.17741935, 0.20633333, 0.15580645,\n",
       "       0.16032258, 0.14666667, 0.11806452, 0.119     , 0.11806452,\n",
       "       0.11      , 0.12642857, 0.16451613, 0.19833333, 0.20064516,\n",
       "       0.17666667, 0.18258065, 0.18935484, 0.19466667, 0.19129032,\n",
       "       0.19433333, 0.18322581, 0.1683871 , 0.15678571, 0.13870968,\n",
       "       0.098     , 0.09387097, 0.092     , 0.07096774, 0.09580645,\n",
       "       0.084     , 0.07064516, 0.081     , 0.0716129 , 0.08193548,\n",
       "       0.1037931 , 0.12677419, 0.13933333, 0.15580645, 0.16166667,\n",
       "       0.15645161, 0.13225806, 0.14433333, 0.1583871 , 0.16066667,\n",
       "       0.16451613, 0.14258065, 0.145     , 0.14354839, 0.145     ,\n",
       "       0.10903226, 0.09366667, 0.09258065, 0.08290323, 0.08      ,\n",
       "       0.08709677, 0.08433333, 0.08516129, 0.0716129 , 0.06642857,\n",
       "       0.07806452, 0.09033333, 0.08709677, 0.09566667, 0.09096774,\n",
       "       0.08806452, 0.08833333, 0.08903226, 0.092     , 0.12258065,\n",
       "       0.11483871, 0.11071429, 0.11290323, 0.12466667, 0.12322581,\n",
       "       0.129     , 0.13032258, 0.13806452, 0.136     , 0.12354839,\n",
       "       0.11766667, 0.24064516, 0.34290323, 0.37517241, 0.36225806,\n",
       "       0.36533333, 0.36516129, 0.37766667, 0.3916129 , 0.39677419,\n",
       "       0.39633333, 0.39645161, 0.40666667, 0.54      , 0.64967742,\n",
       "       0.65678571, 0.78612903, 0.896     , 0.90741935, 1.04      ,\n",
       "       1.15064516, 1.15709677, 1.15333333, 1.15387097, 1.157     ,\n",
       "       1.3016129 , 1.41451613, 1.4175    , 1.50612903, 1.69233333,\n",
       "       1.7       , 1.81966667, 1.91      , 1.91483871, 1.95466667,\n",
       "       2.18774194, 2.19766667, 2.27419355, 2.4       , 2.4       ,\n",
       "       2.40516129, 2.42366667, 2.39096774, 2.37766667, 2.40290323,\n",
       "       2.12580645, 2.043     , 1.82967742, 1.55333333, 1.55096774,\n",
       "       1.55064516, 1.58310345, 0.65225806, 0.049     , 0.05      ,\n",
       "       0.07766667, 0.09258065, 0.09516129, 0.09      , 0.09      ,\n",
       "       0.08633333, 0.09      , 0.08516129, 0.07571429, 0.06967742,\n",
       "       0.069     , 0.05806452, 0.078     , 0.09806452, 0.09225806,\n",
       "       0.07933333, 0.07903226, 0.07966667, 0.07967742, 0.07935484,\n",
       "       0.08      , 0.20096774, 0.33      , 0.76548387, 1.205     ,\n",
       "       1.67580645, 2.33      , 2.33      ])"
      ]
     },
     "execution_count": 227,
     "metadata": {},
     "output_type": "execute_result"
    }
   ],
   "source": [
    "federal_funds_rates_array_after_2000"
   ]
  },
  {
   "cell_type": "code",
   "execution_count": 1,
   "id": "029d8145",
   "metadata": {},
   "outputs": [
    {
     "ename": "NameError",
     "evalue": "name 'series' is not defined",
     "output_type": "error",
     "traceback": [
      "\u001b[0;31m---------------------------------------------------------------------------\u001b[0m",
      "\u001b[0;31mNameError\u001b[0m                                 Traceback (most recent call last)",
      "Cell \u001b[0;32mIn [1], line 2\u001b[0m\n\u001b[1;32m      1\u001b[0m count \u001b[38;5;241m=\u001b[39m \u001b[38;5;241m1\u001b[39m\n\u001b[0;32m----> 2\u001b[0m \u001b[38;5;28;01mfor\u001b[39;00m x, y \u001b[38;5;129;01min\u001b[39;00m series:\n\u001b[1;32m      3\u001b[0m     \u001b[38;5;28mprint\u001b[39m(\u001b[38;5;124mf\u001b[39m\u001b[38;5;124m\"\u001b[39m\u001b[38;5;132;01m{\u001b[39;00mx\u001b[38;5;132;01m}\u001b[39;00m\u001b[38;5;124m, \u001b[39m\u001b[38;5;132;01m{\u001b[39;00my\u001b[38;5;132;01m}\u001b[39;00m\u001b[38;5;124m\"\u001b[39m)\n\u001b[1;32m      4\u001b[0m     count \u001b[38;5;241m+\u001b[39m\u001b[38;5;241m=\u001b[39m\u001b[38;5;241m1\u001b[39m\n",
      "\u001b[0;31mNameError\u001b[0m: name 'series' is not defined"
     ]
    }
   ],
   "source": [
    "count = 1\n",
    "for x, y in series:\n",
    "    print(f\"{x}, {y}\")\n",
    "    count +=1\n",
    "    \n",
    "print(count)"
   ]
  },
  {
   "cell_type": "code",
   "execution_count": null,
   "id": "ea7e8e24",
   "metadata": {},
   "outputs": [],
   "source": []
  },
  {
   "cell_type": "code",
   "execution_count": null,
   "id": "34966451",
   "metadata": {},
   "outputs": [],
   "source": []
  }
 ],
 "metadata": {
  "kernelspec": {
   "display_name": "Python 3 (ipykernel)",
   "language": "python",
   "name": "python3"
  },
  "language_info": {
   "codemirror_mode": {
    "name": "ipython",
    "version": 3
   },
   "file_extension": ".py",
   "mimetype": "text/x-python",
   "name": "python",
   "nbconvert_exporter": "python",
   "pygments_lexer": "ipython3",
   "version": "3.9.5"
  }
 },
 "nbformat": 4,
 "nbformat_minor": 5
}
